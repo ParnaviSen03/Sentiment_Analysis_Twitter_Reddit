{
 "cells": [
  {
   "cell_type": "markdown",
   "id": "46026240",
   "metadata": {},
   "source": [
    "## Scarpping Reddit data"
   ]
  },
  {
   "cell_type": "code",
   "execution_count": 1,
   "id": "bbb83fa5",
   "metadata": {},
   "outputs": [
    {
     "name": "stdout",
     "output_type": "stream",
     "text": [
      "Collecting praw\n",
      "  Downloading praw-7.8.1-py3-none-any.whl (189 kB)\n",
      "     -------------------------------------- 189.3/189.3 kB 3.8 MB/s eta 0:00:00\n",
      "Requirement already satisfied: websocket-client>=0.54.0 in c:\\users\\parnavi_sen\\anaconda3\\lib\\site-packages (from praw) (0.58.0)\n",
      "Collecting update_checker>=0.18\n",
      "  Downloading update_checker-0.18.0-py3-none-any.whl (7.0 kB)\n",
      "Collecting prawcore<3,>=2.4\n",
      "  Downloading prawcore-2.4.0-py3-none-any.whl (17 kB)\n",
      "Requirement already satisfied: requests<3.0,>=2.6.0 in c:\\users\\parnavi_sen\\anaconda3\\lib\\site-packages (from prawcore<3,>=2.4->praw) (2.28.1)\n",
      "Requirement already satisfied: six in c:\\users\\parnavi_sen\\anaconda3\\lib\\site-packages (from websocket-client>=0.54.0->praw) (1.16.0)\n",
      "Requirement already satisfied: certifi>=2017.4.17 in c:\\users\\parnavi_sen\\anaconda3\\lib\\site-packages (from requests<3.0,>=2.6.0->prawcore<3,>=2.4->praw) (2022.9.14)\n",
      "Requirement already satisfied: charset-normalizer<3,>=2 in c:\\users\\parnavi_sen\\anaconda3\\lib\\site-packages (from requests<3.0,>=2.6.0->prawcore<3,>=2.4->praw) (2.0.4)\n",
      "Requirement already satisfied: idna<4,>=2.5 in c:\\users\\parnavi_sen\\anaconda3\\lib\\site-packages (from requests<3.0,>=2.6.0->prawcore<3,>=2.4->praw) (3.3)\n",
      "Requirement already satisfied: urllib3<1.27,>=1.21.1 in c:\\users\\parnavi_sen\\anaconda3\\lib\\site-packages (from requests<3.0,>=2.6.0->prawcore<3,>=2.4->praw) (1.26.11)\n",
      "Installing collected packages: update_checker, prawcore, praw\n",
      "Successfully installed praw-7.8.1 prawcore-2.4.0 update_checker-0.18.0\n",
      "Note: you may need to restart the kernel to use updated packages.\n"
     ]
    },
    {
     "name": "stderr",
     "output_type": "stream",
     "text": [
      "WARNING: Ignoring invalid distribution -rotobuf (c:\\users\\parnavi_sen\\anaconda3\\lib\\site-packages)\n",
      "WARNING: Ignoring invalid distribution -rotobuf (c:\\users\\parnavi_sen\\anaconda3\\lib\\site-packages)\n",
      "WARNING: Ignoring invalid distribution -rotobuf (c:\\users\\parnavi_sen\\anaconda3\\lib\\site-packages)\n",
      "WARNING: Ignoring invalid distribution -rotobuf (c:\\users\\parnavi_sen\\anaconda3\\lib\\site-packages)\n",
      "WARNING: Ignoring invalid distribution -rotobuf (c:\\users\\parnavi_sen\\anaconda3\\lib\\site-packages)\n",
      "WARNING: Ignoring invalid distribution -rotobuf (c:\\users\\parnavi_sen\\anaconda3\\lib\\site-packages)\n",
      "WARNING: Ignoring invalid distribution -rotobuf (c:\\users\\parnavi_sen\\anaconda3\\lib\\site-packages)\n",
      "WARNING: Ignoring invalid distribution -rotobuf (c:\\users\\parnavi_sen\\anaconda3\\lib\\site-packages)\n",
      "WARNING: Ignoring invalid distribution -rotobuf (c:\\users\\parnavi_sen\\anaconda3\\lib\\site-packages)\n"
     ]
    }
   ],
   "source": [
    "pip install praw\n"
   ]
  },
  {
   "cell_type": "code",
   "execution_count": 43,
   "id": "f14a3cb0",
   "metadata": {},
   "outputs": [
    {
     "name": "stderr",
     "output_type": "stream",
     "text": [
      "951it [04:41,  3.38it/s]\n"
     ]
    }
   ],
   "source": [
    "import os\n",
    "import praw\n",
    "from prawcore.exceptions import NotFound\n",
    "import pandas as pd\n",
    "from tqdm import tqdm\n",
    "\n",
    "arr=[]\n",
    "reddit = praw.Reddit(\n",
    "    client_id='eLHIfVLEUxnTQlLlGt29_Q',\n",
    "    client_secret='xalSQxSsLr5oxApVsrobL5dyasmCOw',\n",
    "    user_agent='python:my_reddit_sentiment_app:v1.0.0 (by u/on_a_no_buy)'\n",
    ")\n",
    "\n",
    "try:\n",
    "    subreddit = reddit.subreddit('sneakers')\n",
    "    for post in tqdm(subreddit.hot(limit=1000)):\n",
    "        #print(post.title)\n",
    "        #print(post.selftext)\n",
    "        if len(post.comments) > 0:\n",
    "            comment=post.comments[0].body\n",
    "        else:\n",
    "            comment=\" \"\n",
    "        arr.append([post.title,post.selftext,post.upvote_ratio,post.created_utc,post.score,comment])\n",
    "except NotFound:\n",
    "    print(\"The requested resource was not found. Please check the subreddit name or resource ID.\")\n",
    "df_sneakers = pd.DataFrame(arr, columns=['Title', 'Body','Upvote_ratio','Timestamp','Upvote_num','comments'])\n"
   ]
  },
  {
   "cell_type": "code",
   "execution_count": 45,
   "id": "e69dade8",
   "metadata": {},
   "outputs": [],
   "source": [
    "#Store the subreddit as csv\n",
    "df_sneakers.to_csv('sneakers.csv', index=False)\n"
   ]
  },
  {
   "cell_type": "code",
   "execution_count": 48,
   "id": "d98a2208",
   "metadata": {},
   "outputs": [
    {
     "name": "stdout",
     "output_type": "stream",
     "text": [
      "Loaded: adidas.csv\n",
      "Loaded: asics.csv\n",
      "Loaded: fabletics.csv\n",
      "Loaded: gymshark.csv\n",
      "Loaded: hoka.csv\n",
      "Loaded: lululemon.csv\n",
      "Loaded: newbalance.csv\n",
      "Loaded: nike.csv\n",
      "Loaded: puma.csv\n",
      "Loaded: reebok.csv\n",
      "Loaded: sneakers.csv\n",
      "Loaded: underarmour.csv\n",
      "Total CSV files read: 12\n"
     ]
    }
   ],
   "source": [
    "#Merge all the datasets together\n",
    "# Path to the folder containing the CSV files\n",
    "folder_path = 'Dataframe_new'\n",
    "\n",
    "# List to store the DataFrames\n",
    "dataframes = []\n",
    "\n",
    "# Iterate over all files in the folder\n",
    "for file_name in os.listdir(folder_path):\n",
    "    # Check if the file is a CSV\n",
    "    if file_name.endswith('.csv'):\n",
    "        file_path = os.path.join(folder_path, file_name)\n",
    "        # Read the CSV into a DataFrame\n",
    "        df = pd.read_csv(file_path)\n",
    "        df['topic'] = os.path.splitext(file_name)[0]\n",
    "        dataframes.append(df)\n",
    "        print(f\"Loaded: {file_name}\")\n",
    "\n",
    "print(f\"Total CSV files read: {len(dataframes)}\")"
   ]
  },
  {
   "cell_type": "code",
   "execution_count": 49,
   "id": "ef6bf4b8",
   "metadata": {},
   "outputs": [],
   "source": [
    "combined_df = pd.concat(dataframes, ignore_index=True)\n"
   ]
  },
  {
   "cell_type": "code",
   "execution_count": 51,
   "id": "9d65838b",
   "metadata": {},
   "outputs": [],
   "source": [
    "#save the combined scrapped data into a csv file\n",
    "combined_df.to_csv('athletic_apparel.csv', index=False)\n"
   ]
  },
  {
   "cell_type": "markdown",
   "id": "8a951739",
   "metadata": {},
   "source": [
    "## Preprocessing data"
   ]
  },
  {
   "cell_type": "code",
   "execution_count": 2,
   "id": "7672fb9c",
   "metadata": {
    "ExecuteTime": {
     "end_time": "2025-02-17T21:23:25.279906Z",
     "start_time": "2025-02-17T21:23:24.583052Z"
    }
   },
   "outputs": [
    {
     "name": "stderr",
     "output_type": "stream",
     "text": [
      "/Users/navneetparab/opt/anaconda3/lib/python3.9/site-packages/pandas/core/computation/expressions.py:21: UserWarning: Pandas requires version '2.8.4' or newer of 'numexpr' (version '2.8.1' currently installed).\n",
      "  from pandas.core.computation.check import NUMEXPR_INSTALLED\n",
      "/Users/navneetparab/opt/anaconda3/lib/python3.9/site-packages/pandas/core/arrays/masked.py:60: UserWarning: Pandas requires version '1.3.6' or newer of 'bottleneck' (version '1.3.4' currently installed).\n",
      "  from pandas.core import (\n"
     ]
    }
   ],
   "source": [
    "import pandas as pd\n",
    "df=pd.read_csv('athletic_apparel.csv')"
   ]
  },
  {
   "cell_type": "code",
   "execution_count": 3,
   "id": "be4711f8",
   "metadata": {
    "ExecuteTime": {
     "end_time": "2025-02-17T21:23:25.290142Z",
     "start_time": "2025-02-17T21:23:25.287535Z"
    }
   },
   "outputs": [
    {
     "data": {
      "text/plain": "Title              0\nBody            2834\nUpvote_ratio       0\nTimestamp          0\nUpvote_num         0\ncomments           0\ntopic              0\ndtype: int64"
     },
     "execution_count": 3,
     "metadata": {},
     "output_type": "execute_result"
    }
   ],
   "source": [
    "nan_per_column = df.isnull().sum()\n",
    "nan_per_column"
   ]
  },
  {
   "cell_type": "code",
   "execution_count": 4,
   "id": "ad5d9391",
   "metadata": {
    "ExecuteTime": {
     "end_time": "2025-02-17T21:23:25.678678Z",
     "start_time": "2025-02-17T21:23:25.581733Z"
    }
   },
   "outputs": [],
   "source": [
    "#lowercasing and removing speacial characters\n",
    "df['clean_Title'] = df['Title'].str.lower().str.replace(r'[^\\w\\s]', '', regex=True).str.strip()\n",
    "df['clean_Body'] = df['Body'].str.lower().str.replace(r'[^\\w\\s]', '', regex=True).str.strip()\n",
    "df['clean_comments'] = df['comments'].str.lower().str.replace(r'[^\\w\\s]', '', regex=True).str.strip()\n"
   ]
  },
  {
   "cell_type": "code",
   "execution_count": 5,
   "id": "cb252c2d",
   "metadata": {
    "ExecuteTime": {
     "end_time": "2025-02-17T21:23:26.025641Z",
     "start_time": "2025-02-17T21:23:25.946286Z"
    }
   },
   "outputs": [],
   "source": [
    "#removing numbers\n",
    "df['clean_Title']=df['clean_Title'].str.replace(r'\\d+','',regex=True)\n",
    "df['clean_Body']=df['clean_Body'].str.replace(r'\\d+','',regex=True)\n",
    "df['clean_comments']=df['clean_comments'].str.replace(r'\\d+','',regex=True)"
   ]
  },
  {
   "cell_type": "code",
   "execution_count": 6,
   "id": "32b37443",
   "metadata": {
    "ExecuteTime": {
     "end_time": "2025-02-17T21:23:27.269223Z",
     "start_time": "2025-02-17T21:23:26.187719Z"
    }
   },
   "outputs": [
    {
     "name": "stderr",
     "output_type": "stream",
     "text": [
      "[nltk_data] Downloading package stopwords to\n",
      "[nltk_data]     /Users/navneetparab/nltk_data...\n",
      "[nltk_data]   Package stopwords is already up-to-date!\n"
     ]
    }
   ],
   "source": [
    "import nltk\n",
    "from nltk.corpus import stopwords\n",
    "nltk.download('stopwords')\n",
    "#removing stopwords\n",
    "stop_words = set(stopwords.words('english'))  # Load English stopwords\n",
    "def remove_stopwords(text):\n",
    "    if isinstance(text, str):  # Ensure text is a string\n",
    "        return \" \".join([word for word in text.split() if word.lower() not in stop_words])\n",
    "    return \"\"  # Return empty string if value is NaN or not a string\n"
   ]
  },
  {
   "cell_type": "code",
   "execution_count": 7,
   "id": "9cb7b1ba",
   "metadata": {
    "ExecuteTime": {
     "end_time": "2025-02-17T21:23:27.410024Z",
     "start_time": "2025-02-17T21:23:27.274527Z"
    }
   },
   "outputs": [],
   "source": [
    "#remove stopwords\n",
    "df['clean_Title'] = df['clean_Title'].apply(remove_stopwords)\n",
    "df['clean_Body'] = df['clean_Body'].apply(remove_stopwords)\n",
    "df['clean_comments'] = df['clean_comments'].apply(remove_stopwords)\n"
   ]
  },
  {
   "cell_type": "code",
   "execution_count": 8,
   "id": "68168665",
   "metadata": {
    "ExecuteTime": {
     "end_time": "2025-02-17T21:23:27.444306Z",
     "start_time": "2025-02-17T21:23:27.411343Z"
    }
   },
   "outputs": [
    {
     "name": "stderr",
     "output_type": "stream",
     "text": [
      "[nltk_data] Downloading package wordnet to\n",
      "[nltk_data]     /Users/navneetparab/nltk_data...\n",
      "[nltk_data]   Package wordnet is already up-to-date!\n"
     ]
    }
   ],
   "source": [
    "#lemmatization\n",
    "from nltk.stem import WordNetLemmatizer\n",
    "import nltk\n",
    "nltk.download('wordnet')\n",
    "\n",
    "lemmatizer = WordNetLemmatizer()\n",
    "# Function to lemmatize text\n",
    "def lemmatize_nltk(text):\n",
    "    if isinstance(text, str):  # Ensure input is a string\n",
    "        return \" \".join([lemmatizer.lemmatize(word) for word in text.split()])\n",
    "    return \"\"\n"
   ]
  },
  {
   "cell_type": "code",
   "execution_count": 9,
   "id": "4b20069b",
   "metadata": {
    "ExecuteTime": {
     "end_time": "2025-02-17T21:23:29.667688Z",
     "start_time": "2025-02-17T21:23:27.442151Z"
    }
   },
   "outputs": [],
   "source": [
    "df['clean_Title'] = df['clean_Title'].apply(lemmatize_nltk)\n",
    "df['clean_Body'] = df['clean_Body'].apply(lemmatize_nltk)\n",
    "df['clean_comments'] = df['clean_comments'].apply(lemmatize_nltk)\n"
   ]
  },
  {
   "cell_type": "code",
   "execution_count": 10,
   "id": "cb0562c5",
   "metadata": {
    "ExecuteTime": {
     "end_time": "2025-02-17T21:23:29.708699Z",
     "start_time": "2025-02-17T21:23:29.669182Z"
    }
   },
   "outputs": [
    {
     "name": "stderr",
     "output_type": "stream",
     "text": [
      "[nltk_data] Downloading package punkt to\n",
      "[nltk_data]     /Users/navneetparab/nltk_data...\n",
      "[nltk_data]   Package punkt is already up-to-date!\n"
     ]
    }
   ],
   "source": [
    "import nltk\n",
    "from nltk.tokenize import word_tokenize, sent_tokenize\n",
    "nltk.download('punkt')\n",
    "# Function to tokenize words\n",
    "def tokenize_words(text):\n",
    "    if isinstance(text, str):  # Ensure input is a string\n",
    "        return word_tokenize(text)\n",
    "    return []  # Return empty list for NaN or non-string values"
   ]
  },
  {
   "cell_type": "code",
   "execution_count": 11,
   "id": "3ee91f93",
   "metadata": {
    "ExecuteTime": {
     "end_time": "2025-02-17T21:23:32.080066Z",
     "start_time": "2025-02-17T21:23:29.705980Z"
    }
   },
   "outputs": [],
   "source": [
    "#word tokenization\n",
    "df['tokenized_Title'] = df['clean_Title'].apply(tokenize_words)\n",
    "df['tokenized_Body'] = df['clean_Body'].apply(tokenize_words)\n",
    "df['tokenized_comments'] = df['clean_comments'].apply(tokenize_words)\n"
   ]
  },
  {
   "cell_type": "code",
   "execution_count": 12,
   "id": "7bcd512d",
   "metadata": {
    "ExecuteTime": {
     "end_time": "2025-02-17T21:23:32.308737Z",
     "start_time": "2025-02-17T21:23:32.081345Z"
    }
   },
   "outputs": [],
   "source": [
    "#combine the title, body and comment column together\n",
    "import numpy as np\n",
    "df['merged'] = df.apply(lambda row: np.concatenate([row['tokenized_Title'], row['tokenized_Body'], row['tokenized_comments']]), axis=1)"
   ]
  },
  {
   "cell_type": "code",
   "execution_count": 13,
   "id": "b59980f8",
   "metadata": {
    "ExecuteTime": {
     "end_time": "2025-02-17T21:23:32.316298Z",
     "start_time": "2025-02-17T21:23:32.312485Z"
    }
   },
   "outputs": [
    {
     "data": {
      "text/plain": "0        [id, post, google, article, number, start, rem...\n1        [taipeiexclusive, bubble, tea, samba, yay, nay...\n2        [gazelle, indoor, burgundy, look, good, new, m...\n3        [team, adidas, stan, smith, campus, definitely...\n4                [concept, kick, x, adidas, aruku, strung]\n                               ...                        \n11453    [hey, guy, would, like, share, personal, proje...\n11454    [new, project, rock, gear, know, pr, dropped, ...\n11455    [men, compression, shortsleggings, pocket, opt...\n11456    [name, bag, found, model, wearing, men, ua, un...\n11457    [well, sport, mask, fit, need, advice, girlfri...\nName: merged, Length: 11458, dtype: object"
     },
     "execution_count": 13,
     "metadata": {},
     "output_type": "execute_result"
    }
   ],
   "source": [
    "df['merged']"
   ]
  },
  {
   "cell_type": "markdown",
   "id": "929e947d",
   "metadata": {},
   "source": [
    "## VADER implementation"
   ]
  },
  {
   "cell_type": "code",
   "execution_count": 2,
   "id": "d83d0742",
   "metadata": {},
   "outputs": [
    {
     "name": "stderr",
     "output_type": "stream",
     "text": [
      "C:\\Users\\Parnavi_Sen\\anaconda3\\lib\\site-packages\\scipy\\__init__.py:155: UserWarning: A NumPy version >=1.18.5 and <1.25.0 is required for this version of SciPy (detected version 1.26.4\n",
      "  warnings.warn(f\"A NumPy version >={np_minversion} and <{np_maxversion}\"\n",
      "[nltk_data] Downloading package vader_lexicon to\n",
      "[nltk_data]     C:\\Users\\Parnavi_Sen\\AppData\\Roaming\\nltk_data...\n",
      "[nltk_data]   Package vader_lexicon is already up-to-date!\n"
     ]
    },
    {
     "data": {
      "text/plain": [
       "True"
      ]
     },
     "execution_count": 2,
     "metadata": {},
     "output_type": "execute_result"
    }
   ],
   "source": [
    "import nltk\n",
    "nltk.download('vader_lexicon')\n"
   ]
  },
  {
   "cell_type": "code",
   "execution_count": 45,
   "id": "8c2629ac",
   "metadata": {},
   "outputs": [],
   "source": [
    "from nltk.sentiment.vader import SentimentIntensityAnalyzer\n",
    "\n",
    "analyzer = SentimentIntensityAnalyzer()"
   ]
  },
  {
   "cell_type": "code",
   "execution_count": 53,
   "id": "7b3caa7a",
   "metadata": {},
   "outputs": [],
   "source": [
    "df['sentiment'] = df['merged'].apply(lambda x: analyzer.polarity_scores(\" \".join(x)))\n"
   ]
  },
  {
   "cell_type": "code",
   "execution_count": 55,
   "id": "151ba82b",
   "metadata": {},
   "outputs": [],
   "source": [
    "df['sentiment'] = df['sentiment'].apply(lambda x: x['compound'])\n"
   ]
  },
  {
   "cell_type": "code",
   "execution_count": 66,
   "id": "dd90d89e",
   "metadata": {},
   "outputs": [],
   "source": [
    "df['mood'] = 'neutral'  # Default value\n",
    "df.loc[df['sentiment'] > 0.05, 'mood'] = 'positive'\n",
    "df.loc[df['sentiment'] < -0.05, 'mood'] = 'negative'"
   ]
  },
  {
   "cell_type": "code",
   "execution_count": 70,
   "id": "db4f6e47",
   "metadata": {},
   "outputs": [],
   "source": [
    "mood_counts=df['mood'].value_counts()"
   ]
  },
  {
   "cell_type": "code",
   "execution_count": 75,
   "id": "0a0b6fcf",
   "metadata": {},
   "outputs": [
    {
     "data": {
      "text/plain": [
       "Text(0.5, 1.0, 'Distribution of Mood Categories')"
      ]
     },
     "execution_count": 75,
     "metadata": {},
     "output_type": "execute_result"
    },
    {
     "data": {
      "image/png": "[encoded data removed]",
      "text/plain": [
       "<Figure size 600x400 with 1 Axes>"
      ]
     },
     "metadata": {},
     "output_type": "display_data"
    }
   ],
   "source": [
    "import matplotlib.pyplot as plt\n",
    "plt.figure(figsize=(6,4))\n",
    "plt.bar(mood_counts.index,mood_counts.values)\n",
    "plt.xlabel(\"Mood\")\n",
    "plt.ylabel(\"Count\")\n",
    "plt.title(\"Distribution of Mood Categories\")"
   ]
  },
  {
   "cell_type": "code",
   "execution_count": 76,
   "id": "13c1ef79",
   "metadata": {},
   "outputs": [],
   "source": [
    "mood_grouped = df.groupby(['topic', 'mood']).size().unstack()\n"
   ]
  },
  {
   "cell_type": "code",
   "execution_count": 79,
   "id": "64443a7b",
   "metadata": {},
   "outputs": [
    {
     "data": {
      "text/plain": [
       "Text(0.5, 1.0, 'Mood Distribution Grouped by Category')"
      ]
     },
     "execution_count": 79,
     "metadata": {},
     "output_type": "execute_result"
    },
    {
     "data": {
      "image/png": "[encoded data removed]",
      "text/plain": [
       "<Figure size 800x500 with 1 Axes>"
      ]
     },
     "metadata": {},
     "output_type": "display_data"
    }
   ],
   "source": [
    "mood_grouped.plot(kind='bar', figsize=(8, 5))\n",
    "# Customizing the plot\n",
    "plt.xlabel(\"Topic\")\n",
    "plt.ylabel(\"Count\")\n",
    "plt.title(\"Mood Distribution Grouped by Category\")"
   ]
  },
  {
   "cell_type": "markdown",
   "source": [
    "# K-Means Clustering"
   ],
   "metadata": {
    "collapsed": false
   },
   "id": "3ac4e05ad4ad215c"
  },
  {
   "cell_type": "code",
   "execution_count": 14,
   "outputs": [],
   "source": [
    "import re\n",
    "import logging\n",
    "import numpy as np\n",
    "import pandas as pd\n",
    "import multiprocessing\n",
    "\n",
    "from re import sub\n",
    "from time import time \n",
    "from unidecode import unidecode\n",
    "from gensim.models import Word2Vec\n",
    "from collections import defaultdict\n",
    "from gensim.models import KeyedVectors\n",
    "from gensim.test.utils import get_tmpfile\n",
    "from gensim.models.phrases import Phrases, Phraser\n",
    "\n",
    "logging.basicConfig(format=\"%(levelname)s - %(asctime)s: %(message)s\", datefmt= '%H:%M:%S', level=logging.INFO)"
   ],
   "metadata": {
    "collapsed": false,
    "ExecuteTime": {
     "end_time": "2025-02-17T21:23:42.758595Z",
     "start_time": "2025-02-17T21:23:42.459610Z"
    }
   },
   "id": "33569fd77642433b"
  },
  {
   "cell_type": "code",
   "execution_count": 16,
   "outputs": [
    {
     "data": {
      "text/plain": "0        [id, post, google, article, number, start, rem...\n1        [taipeiexclusive, bubble, tea, samba, yay, nay...\n2        [gazelle, indoor, burgundy, look, good, new, m...\n3        [team, adidas, stan, smith, campus, definitely...\n4                [concept, kick, x, adidas, aruku, strung]\n                               ...                        \n11453    [hey, guy, would, like, share, personal, proje...\n11454    [new, project, rock, gear, know, pr, dropped, ...\n11455    [men, compression, shortsleggings, pocket, opt...\n11456    [name, bag, found, model, wearing, men, ua, un...\n11457    [well, sport, mask, fit, need, advice, girlfri...\nName: merged, Length: 11458, dtype: object"
     },
     "execution_count": 16,
     "metadata": {},
     "output_type": "execute_result"
    }
   ],
   "source": [
    "df['merged']"
   ],
   "metadata": {
    "collapsed": false,
    "ExecuteTime": {
     "end_time": "2025-02-17T21:23:52.773275Z",
     "start_time": "2025-02-17T21:23:52.759532Z"
    }
   },
   "id": "79136a553e5611b"
  },
  {
   "cell_type": "code",
   "execution_count": 17,
   "outputs": [
    {
     "name": "stderr",
     "output_type": "stream",
     "text": [
      "INFO - 16:24:08: collecting all words and their counts\n",
      "INFO - 16:24:08: PROGRESS: at sentence #0, processed 0 words and 0 word types\n",
      "INFO - 16:24:09: collected 229379 token types (unigram + bigrams) from a corpus of 381503 words and 11458 sentences\n",
      "INFO - 16:24:09: merged Phrases<229379 vocab, min_count=1, threshold=10.0, max_vocab_size=40000000>\n",
      "INFO - 16:24:09: Phrases lifecycle event {'msg': 'built Phrases<229379 vocab, min_count=1, threshold=10.0, max_vocab_size=40000000> in 0.68s', 'datetime': '2025-02-17T16:24:09.105621', 'gensim': '4.1.2', 'python': '3.9.12 (main, Apr  5 2022, 01:53:17) \\n[Clang 12.0.0 ]', 'platform': 'macOS-10.16-x86_64-i386-64bit', 'event': 'created'}\n",
      "INFO - 16:24:09: exporting phrases from Phrases<229379 vocab, min_count=1, threshold=10.0, max_vocab_size=40000000>\n",
      "INFO - 16:24:09: FrozenPhrases lifecycle event {'msg': 'exported FrozenPhrases<19001 phrases, min_count=1, threshold=10.0> from Phrases<229379 vocab, min_count=1, threshold=10.0, max_vocab_size=40000000> in 0.33s', 'datetime': '2025-02-17T16:24:09.438453', 'gensim': '4.1.2', 'python': '3.9.12 (main, Apr  5 2022, 01:53:17) \\n[Clang 12.0.0 ]', 'platform': 'macOS-10.16-x86_64-i386-64bit', 'event': 'created'}\n"
     ]
    },
    {
     "data": {
      "text/plain": "['taipeiexclusive',\n 'bubble',\n 'tea',\n 'samba',\n 'yay_nay',\n 'thats',\n 'pretty',\n 'awesome']"
     },
     "execution_count": 17,
     "metadata": {},
     "output_type": "execute_result"
    }
   ],
   "source": [
    "sent = [row for row in df.merged]\n",
    "phrases = Phrases(sent, min_count=1, progress_per=50000)\n",
    "bigram = Phraser(phrases)\n",
    "sentences = bigram[sent]\n",
    "sentences[1]"
   ],
   "metadata": {
    "collapsed": false,
    "ExecuteTime": {
     "end_time": "2025-02-17T21:24:09.442493Z",
     "start_time": "2025-02-17T21:24:08.428499Z"
    }
   },
   "id": "c549f9d08ebfd52c"
  },
  {
   "cell_type": "code",
   "execution_count": 18,
   "outputs": [
    {
     "name": "stderr",
     "output_type": "stream",
     "text": [
      "INFO - 16:24:33: Word2Vec lifecycle event {'params': 'Word2Vec(vocab=0, vector_size=300, alpha=0.03)', 'datetime': '2025-02-17T16:24:33.070761', 'gensim': '4.1.2', 'python': '3.9.12 (main, Apr  5 2022, 01:53:17) \\n[Clang 12.0.0 ]', 'platform': 'macOS-10.16-x86_64-i386-64bit', 'event': 'created'}\n",
      "INFO - 16:24:33: collecting all words and their counts\n",
      "INFO - 16:24:33: PROGRESS: at sentence #0, processed 0 words, keeping 0 word types\n",
      "INFO - 16:24:33: collected 31962 word types from a corpus of 313698 raw words and 11458 sentences\n",
      "INFO - 16:24:33: Creating a fresh vocabulary\n",
      "INFO - 16:24:33: Word2Vec lifecycle event {'msg': 'effective_min_count=3 retains 10853 unique words (33.95594768787936%% of original 31962, drops 21109)', 'datetime': '2025-02-17T16:24:33.642637', 'gensim': '4.1.2', 'python': '3.9.12 (main, Apr  5 2022, 01:53:17) \\n[Clang 12.0.0 ]', 'platform': 'macOS-10.16-x86_64-i386-64bit', 'event': 'prepare_vocab'}\n",
      "INFO - 16:24:33: Word2Vec lifecycle event {'msg': 'effective_min_count=3 leaves 282171 word corpus (89.94988810894554%% of original 313698, drops 31527)', 'datetime': '2025-02-17T16:24:33.643215', 'gensim': '4.1.2', 'python': '3.9.12 (main, Apr  5 2022, 01:53:17) \\n[Clang 12.0.0 ]', 'platform': 'macOS-10.16-x86_64-i386-64bit', 'event': 'prepare_vocab'}\n",
      "INFO - 16:24:33: deleting the raw counts dictionary of 31962 items\n",
      "INFO - 16:24:33: sample=1e-05 downsamples 4142 most-common words\n",
      "INFO - 16:24:33: Word2Vec lifecycle event {'msg': 'downsampling leaves estimated 81546.0133441682 word corpus (28.9%% of prior 282171)', 'datetime': '2025-02-17T16:24:33.691625', 'gensim': '4.1.2', 'python': '3.9.12 (main, Apr  5 2022, 01:53:17) \\n[Clang 12.0.0 ]', 'platform': 'macOS-10.16-x86_64-i386-64bit', 'event': 'prepare_vocab'}\n",
      "INFO - 16:24:33: estimated required memory for 10853 words and 300 dimensions: 31473700 bytes\n",
      "INFO - 16:24:33: resetting layer weights\n",
      "INFO - 16:24:33: Word2Vec lifecycle event {'update': False, 'trim_rule': 'None', 'datetime': '2025-02-17T16:24:33.779877', 'gensim': '4.1.2', 'python': '3.9.12 (main, Apr  5 2022, 01:53:17) \\n[Clang 12.0.0 ]', 'platform': 'macOS-10.16-x86_64-i386-64bit', 'event': 'build_vocab'}\n"
     ]
    },
    {
     "name": "stdout",
     "output_type": "stream",
     "text": [
      "Time to build vocab: 0.01 mins\n"
     ]
    }
   ],
   "source": [
    "w2v_model = Word2Vec(min_count=3,\n",
    "                     window=4,\n",
    "                     vector_size=300,\n",
    "                     sample=1e-5, \n",
    "                     alpha=0.03, \n",
    "                     min_alpha=0.0007, \n",
    "                     negative=20,\n",
    "                     workers=multiprocessing.cpu_count()-1)\n",
    "\n",
    "start = time()\n",
    "\n",
    "w2v_model.build_vocab(sentences, progress_per=50000)\n",
    "\n",
    "print('Time to build vocab: {} mins'.format(round((time() - start) / 60, 2)))"
   ],
   "metadata": {
    "collapsed": false,
    "ExecuteTime": {
     "end_time": "2025-02-17T21:24:33.783560Z",
     "start_time": "2025-02-17T21:24:33.072534Z"
    }
   },
   "id": "76c35569f8ac8713"
  },
  {
   "cell_type": "code",
   "execution_count": 19,
   "outputs": [
    {
     "name": "stderr",
     "output_type": "stream",
     "text": [
      "INFO - 16:24:54: Word2Vec lifecycle event {'msg': 'training model with 7 workers on 10853 vocabulary and 300 features, using sg=0 hs=0 sample=1e-05 negative=20 window=4 shrink_windows=True', 'datetime': '2025-02-17T16:24:54.924085', 'gensim': '4.1.2', 'python': '3.9.12 (main, Apr  5 2022, 01:53:17) \\n[Clang 12.0.0 ]', 'platform': 'macOS-10.16-x86_64-i386-64bit', 'event': 'train'}\n",
      "INFO - 16:24:55: worker thread finished; awaiting finish of 6 more threads\n",
      "INFO - 16:24:55: worker thread finished; awaiting finish of 5 more threads\n",
      "INFO - 16:24:55: worker thread finished; awaiting finish of 4 more threads\n",
      "INFO - 16:24:55: worker thread finished; awaiting finish of 3 more threads\n",
      "INFO - 16:24:55: worker thread finished; awaiting finish of 2 more threads\n",
      "INFO - 16:24:55: worker thread finished; awaiting finish of 1 more threads\n",
      "INFO - 16:24:55: worker thread finished; awaiting finish of 0 more threads\n",
      "INFO - 16:24:55: EPOCH - 1 : training on 313698 raw words (81402 effective words) took 0.7s, 124873 effective words/s\n",
      "INFO - 16:24:56: worker thread finished; awaiting finish of 6 more threads\n",
      "INFO - 16:24:56: worker thread finished; awaiting finish of 5 more threads\n",
      "INFO - 16:24:56: worker thread finished; awaiting finish of 4 more threads\n",
      "INFO - 16:24:56: worker thread finished; awaiting finish of 3 more threads\n",
      "INFO - 16:24:56: worker thread finished; awaiting finish of 2 more threads\n",
      "INFO - 16:24:56: worker thread finished; awaiting finish of 1 more threads\n",
      "INFO - 16:24:56: worker thread finished; awaiting finish of 0 more threads\n",
      "INFO - 16:24:56: EPOCH - 2 : training on 313698 raw words (81326 effective words) took 0.5s, 155042 effective words/s\n",
      "INFO - 16:24:56: worker thread finished; awaiting finish of 6 more threads\n",
      "INFO - 16:24:56: worker thread finished; awaiting finish of 5 more threads\n",
      "INFO - 16:24:56: worker thread finished; awaiting finish of 4 more threads\n",
      "INFO - 16:24:56: worker thread finished; awaiting finish of 3 more threads\n",
      "INFO - 16:24:56: worker thread finished; awaiting finish of 2 more threads\n",
      "INFO - 16:24:56: worker thread finished; awaiting finish of 1 more threads\n",
      "INFO - 16:24:56: worker thread finished; awaiting finish of 0 more threads\n",
      "INFO - 16:24:56: EPOCH - 3 : training on 313698 raw words (81717 effective words) took 0.5s, 159994 effective words/s\n",
      "INFO - 16:24:57: worker thread finished; awaiting finish of 6 more threads\n",
      "INFO - 16:24:57: worker thread finished; awaiting finish of 5 more threads\n",
      "INFO - 16:24:57: worker thread finished; awaiting finish of 4 more threads\n",
      "INFO - 16:24:57: worker thread finished; awaiting finish of 3 more threads\n",
      "INFO - 16:24:57: worker thread finished; awaiting finish of 2 more threads\n",
      "INFO - 16:24:57: worker thread finished; awaiting finish of 1 more threads\n",
      "INFO - 16:24:57: worker thread finished; awaiting finish of 0 more threads\n",
      "INFO - 16:24:57: EPOCH - 4 : training on 313698 raw words (81937 effective words) took 0.5s, 166704 effective words/s\n",
      "INFO - 16:24:57: worker thread finished; awaiting finish of 6 more threads\n",
      "INFO - 16:24:57: worker thread finished; awaiting finish of 5 more threads\n",
      "INFO - 16:24:57: worker thread finished; awaiting finish of 4 more threads\n",
      "INFO - 16:24:57: worker thread finished; awaiting finish of 3 more threads\n",
      "INFO - 16:24:57: worker thread finished; awaiting finish of 2 more threads\n",
      "INFO - 16:24:57: worker thread finished; awaiting finish of 1 more threads\n",
      "INFO - 16:24:57: worker thread finished; awaiting finish of 0 more threads\n",
      "INFO - 16:24:57: EPOCH - 5 : training on 313698 raw words (81511 effective words) took 0.5s, 166324 effective words/s\n",
      "INFO - 16:24:58: worker thread finished; awaiting finish of 6 more threads\n",
      "INFO - 16:24:58: worker thread finished; awaiting finish of 5 more threads\n",
      "INFO - 16:24:58: worker thread finished; awaiting finish of 4 more threads\n",
      "INFO - 16:24:58: worker thread finished; awaiting finish of 3 more threads\n",
      "INFO - 16:24:58: worker thread finished; awaiting finish of 2 more threads\n",
      "INFO - 16:24:58: worker thread finished; awaiting finish of 1 more threads\n",
      "INFO - 16:24:58: worker thread finished; awaiting finish of 0 more threads\n",
      "INFO - 16:24:58: EPOCH - 6 : training on 313698 raw words (81610 effective words) took 0.5s, 152202 effective words/s\n",
      "INFO - 16:24:58: worker thread finished; awaiting finish of 6 more threads\n",
      "INFO - 16:24:58: worker thread finished; awaiting finish of 5 more threads\n",
      "INFO - 16:24:58: worker thread finished; awaiting finish of 4 more threads\n",
      "INFO - 16:24:58: worker thread finished; awaiting finish of 3 more threads\n",
      "INFO - 16:24:58: worker thread finished; awaiting finish of 2 more threads\n",
      "INFO - 16:24:58: worker thread finished; awaiting finish of 1 more threads\n",
      "INFO - 16:24:58: worker thread finished; awaiting finish of 0 more threads\n",
      "INFO - 16:24:58: EPOCH - 7 : training on 313698 raw words (81865 effective words) took 0.5s, 169866 effective words/s\n",
      "INFO - 16:24:59: worker thread finished; awaiting finish of 6 more threads\n",
      "INFO - 16:24:59: worker thread finished; awaiting finish of 5 more threads\n",
      "INFO - 16:24:59: worker thread finished; awaiting finish of 4 more threads\n",
      "INFO - 16:24:59: worker thread finished; awaiting finish of 3 more threads\n",
      "INFO - 16:24:59: worker thread finished; awaiting finish of 2 more threads\n",
      "INFO - 16:24:59: worker thread finished; awaiting finish of 1 more threads\n",
      "INFO - 16:24:59: worker thread finished; awaiting finish of 0 more threads\n",
      "INFO - 16:24:59: EPOCH - 8 : training on 313698 raw words (81460 effective words) took 0.5s, 168984 effective words/s\n",
      "INFO - 16:24:59: worker thread finished; awaiting finish of 6 more threads\n",
      "INFO - 16:24:59: worker thread finished; awaiting finish of 5 more threads\n",
      "INFO - 16:24:59: worker thread finished; awaiting finish of 4 more threads\n",
      "INFO - 16:24:59: worker thread finished; awaiting finish of 3 more threads\n",
      "INFO - 16:24:59: worker thread finished; awaiting finish of 2 more threads\n",
      "INFO - 16:24:59: worker thread finished; awaiting finish of 1 more threads\n",
      "INFO - 16:24:59: worker thread finished; awaiting finish of 0 more threads\n",
      "INFO - 16:24:59: EPOCH - 9 : training on 313698 raw words (81441 effective words) took 0.5s, 162581 effective words/s\n",
      "INFO - 16:25:00: worker thread finished; awaiting finish of 6 more threads\n",
      "INFO - 16:25:00: worker thread finished; awaiting finish of 5 more threads\n",
      "INFO - 16:25:00: worker thread finished; awaiting finish of 4 more threads\n",
      "INFO - 16:25:00: worker thread finished; awaiting finish of 3 more threads\n",
      "INFO - 16:25:00: worker thread finished; awaiting finish of 2 more threads\n",
      "INFO - 16:25:00: worker thread finished; awaiting finish of 1 more threads\n",
      "INFO - 16:25:00: worker thread finished; awaiting finish of 0 more threads\n",
      "INFO - 16:25:00: EPOCH - 10 : training on 313698 raw words (81062 effective words) took 0.5s, 179893 effective words/s\n",
      "INFO - 16:25:00: worker thread finished; awaiting finish of 6 more threads\n",
      "INFO - 16:25:00: worker thread finished; awaiting finish of 5 more threads\n",
      "INFO - 16:25:00: worker thread finished; awaiting finish of 4 more threads\n",
      "INFO - 16:25:00: worker thread finished; awaiting finish of 3 more threads\n",
      "INFO - 16:25:00: worker thread finished; awaiting finish of 2 more threads\n",
      "INFO - 16:25:00: worker thread finished; awaiting finish of 1 more threads\n",
      "INFO - 16:25:00: worker thread finished; awaiting finish of 0 more threads\n",
      "INFO - 16:25:00: EPOCH - 11 : training on 313698 raw words (81577 effective words) took 0.5s, 178281 effective words/s\n",
      "INFO - 16:25:01: worker thread finished; awaiting finish of 6 more threads\n",
      "INFO - 16:25:01: worker thread finished; awaiting finish of 5 more threads\n",
      "INFO - 16:25:01: worker thread finished; awaiting finish of 4 more threads\n",
      "INFO - 16:25:01: worker thread finished; awaiting finish of 3 more threads\n",
      "INFO - 16:25:01: worker thread finished; awaiting finish of 2 more threads\n",
      "INFO - 16:25:01: worker thread finished; awaiting finish of 1 more threads\n",
      "INFO - 16:25:01: worker thread finished; awaiting finish of 0 more threads\n",
      "INFO - 16:25:01: EPOCH - 12 : training on 313698 raw words (81399 effective words) took 0.5s, 171904 effective words/s\n",
      "INFO - 16:25:01: worker thread finished; awaiting finish of 6 more threads\n",
      "INFO - 16:25:01: worker thread finished; awaiting finish of 5 more threads\n",
      "INFO - 16:25:01: worker thread finished; awaiting finish of 4 more threads\n",
      "INFO - 16:25:01: worker thread finished; awaiting finish of 3 more threads\n",
      "INFO - 16:25:01: worker thread finished; awaiting finish of 2 more threads\n",
      "INFO - 16:25:01: worker thread finished; awaiting finish of 1 more threads\n",
      "INFO - 16:25:01: worker thread finished; awaiting finish of 0 more threads\n",
      "INFO - 16:25:01: EPOCH - 13 : training on 313698 raw words (81036 effective words) took 0.5s, 170914 effective words/s\n",
      "INFO - 16:25:02: worker thread finished; awaiting finish of 6 more threads\n",
      "INFO - 16:25:02: worker thread finished; awaiting finish of 5 more threads\n",
      "INFO - 16:25:02: worker thread finished; awaiting finish of 4 more threads\n",
      "INFO - 16:25:02: worker thread finished; awaiting finish of 3 more threads\n",
      "INFO - 16:25:02: worker thread finished; awaiting finish of 2 more threads\n",
      "INFO - 16:25:02: worker thread finished; awaiting finish of 1 more threads\n",
      "INFO - 16:25:02: worker thread finished; awaiting finish of 0 more threads\n",
      "INFO - 16:25:02: EPOCH - 14 : training on 313698 raw words (81564 effective words) took 0.5s, 174732 effective words/s\n",
      "INFO - 16:25:02: worker thread finished; awaiting finish of 6 more threads\n",
      "INFO - 16:25:02: worker thread finished; awaiting finish of 5 more threads\n",
      "INFO - 16:25:02: worker thread finished; awaiting finish of 4 more threads\n",
      "INFO - 16:25:02: worker thread finished; awaiting finish of 3 more threads\n",
      "INFO - 16:25:02: worker thread finished; awaiting finish of 2 more threads\n",
      "INFO - 16:25:02: worker thread finished; awaiting finish of 1 more threads\n",
      "INFO - 16:25:02: worker thread finished; awaiting finish of 0 more threads\n",
      "INFO - 16:25:02: EPOCH - 15 : training on 313698 raw words (81517 effective words) took 0.5s, 180241 effective words/s\n",
      "INFO - 16:25:02: worker thread finished; awaiting finish of 6 more threads\n",
      "INFO - 16:25:02: worker thread finished; awaiting finish of 5 more threads\n",
      "INFO - 16:25:02: worker thread finished; awaiting finish of 4 more threads\n",
      "INFO - 16:25:02: worker thread finished; awaiting finish of 3 more threads\n",
      "INFO - 16:25:02: worker thread finished; awaiting finish of 2 more threads\n",
      "INFO - 16:25:02: worker thread finished; awaiting finish of 1 more threads\n",
      "INFO - 16:25:02: worker thread finished; awaiting finish of 0 more threads\n",
      "INFO - 16:25:02: EPOCH - 16 : training on 313698 raw words (81323 effective words) took 0.5s, 178394 effective words/s\n",
      "INFO - 16:25:03: worker thread finished; awaiting finish of 6 more threads\n",
      "INFO - 16:25:03: worker thread finished; awaiting finish of 5 more threads\n",
      "INFO - 16:25:03: worker thread finished; awaiting finish of 4 more threads\n",
      "INFO - 16:25:03: worker thread finished; awaiting finish of 3 more threads\n",
      "INFO - 16:25:03: worker thread finished; awaiting finish of 2 more threads\n",
      "INFO - 16:25:03: worker thread finished; awaiting finish of 1 more threads\n",
      "INFO - 16:25:03: worker thread finished; awaiting finish of 0 more threads\n",
      "INFO - 16:25:03: EPOCH - 17 : training on 313698 raw words (81357 effective words) took 0.5s, 178425 effective words/s\n",
      "INFO - 16:25:03: worker thread finished; awaiting finish of 6 more threads\n",
      "INFO - 16:25:03: worker thread finished; awaiting finish of 5 more threads\n",
      "INFO - 16:25:03: worker thread finished; awaiting finish of 4 more threads\n",
      "INFO - 16:25:03: worker thread finished; awaiting finish of 3 more threads\n",
      "INFO - 16:25:03: worker thread finished; awaiting finish of 2 more threads\n",
      "INFO - 16:25:03: worker thread finished; awaiting finish of 1 more threads\n",
      "INFO - 16:25:03: worker thread finished; awaiting finish of 0 more threads\n",
      "INFO - 16:25:03: EPOCH - 18 : training on 313698 raw words (81449 effective words) took 0.5s, 175060 effective words/s\n",
      "INFO - 16:25:04: worker thread finished; awaiting finish of 6 more threads\n",
      "INFO - 16:25:04: worker thread finished; awaiting finish of 5 more threads\n",
      "INFO - 16:25:04: worker thread finished; awaiting finish of 4 more threads\n",
      "INFO - 16:25:04: worker thread finished; awaiting finish of 3 more threads\n",
      "INFO - 16:25:04: worker thread finished; awaiting finish of 2 more threads\n",
      "INFO - 16:25:04: worker thread finished; awaiting finish of 1 more threads\n",
      "INFO - 16:25:04: worker thread finished; awaiting finish of 0 more threads\n",
      "INFO - 16:25:04: EPOCH - 19 : training on 313698 raw words (81649 effective words) took 0.5s, 171965 effective words/s\n",
      "INFO - 16:25:04: worker thread finished; awaiting finish of 6 more threads\n",
      "INFO - 16:25:04: worker thread finished; awaiting finish of 5 more threads\n",
      "INFO - 16:25:04: worker thread finished; awaiting finish of 4 more threads\n",
      "INFO - 16:25:04: worker thread finished; awaiting finish of 3 more threads\n",
      "INFO - 16:25:04: worker thread finished; awaiting finish of 2 more threads\n",
      "INFO - 16:25:04: worker thread finished; awaiting finish of 1 more threads\n",
      "INFO - 16:25:04: worker thread finished; awaiting finish of 0 more threads\n",
      "INFO - 16:25:04: EPOCH - 20 : training on 313698 raw words (81685 effective words) took 0.5s, 153015 effective words/s\n",
      "INFO - 16:25:05: worker thread finished; awaiting finish of 6 more threads\n",
      "INFO - 16:25:05: worker thread finished; awaiting finish of 5 more threads\n",
      "INFO - 16:25:05: worker thread finished; awaiting finish of 4 more threads\n",
      "INFO - 16:25:05: worker thread finished; awaiting finish of 3 more threads\n",
      "INFO - 16:25:05: worker thread finished; awaiting finish of 2 more threads\n",
      "INFO - 16:25:05: worker thread finished; awaiting finish of 1 more threads\n",
      "INFO - 16:25:05: worker thread finished; awaiting finish of 0 more threads\n",
      "INFO - 16:25:05: EPOCH - 21 : training on 313698 raw words (81559 effective words) took 0.6s, 136455 effective words/s\n",
      "INFO - 16:25:06: worker thread finished; awaiting finish of 6 more threads\n",
      "INFO - 16:25:06: worker thread finished; awaiting finish of 5 more threads\n",
      "INFO - 16:25:06: worker thread finished; awaiting finish of 4 more threads\n",
      "INFO - 16:25:06: worker thread finished; awaiting finish of 3 more threads\n",
      "INFO - 16:25:06: worker thread finished; awaiting finish of 2 more threads\n",
      "INFO - 16:25:06: worker thread finished; awaiting finish of 1 more threads\n",
      "INFO - 16:25:06: worker thread finished; awaiting finish of 0 more threads\n",
      "INFO - 16:25:06: EPOCH - 22 : training on 313698 raw words (81475 effective words) took 0.6s, 141469 effective words/s\n",
      "INFO - 16:25:06: worker thread finished; awaiting finish of 6 more threads\n",
      "INFO - 16:25:06: worker thread finished; awaiting finish of 5 more threads\n",
      "INFO - 16:25:06: worker thread finished; awaiting finish of 4 more threads\n",
      "INFO - 16:25:06: worker thread finished; awaiting finish of 3 more threads\n",
      "INFO - 16:25:06: worker thread finished; awaiting finish of 2 more threads\n",
      "INFO - 16:25:06: worker thread finished; awaiting finish of 1 more threads\n",
      "INFO - 16:25:06: worker thread finished; awaiting finish of 0 more threads\n",
      "INFO - 16:25:06: EPOCH - 23 : training on 313698 raw words (81482 effective words) took 0.7s, 109995 effective words/s\n",
      "INFO - 16:25:07: worker thread finished; awaiting finish of 6 more threads\n",
      "INFO - 16:25:07: worker thread finished; awaiting finish of 5 more threads\n",
      "INFO - 16:25:07: worker thread finished; awaiting finish of 4 more threads\n",
      "INFO - 16:25:07: worker thread finished; awaiting finish of 3 more threads\n",
      "INFO - 16:25:07: worker thread finished; awaiting finish of 2 more threads\n",
      "INFO - 16:25:07: worker thread finished; awaiting finish of 1 more threads\n",
      "INFO - 16:25:07: worker thread finished; awaiting finish of 0 more threads\n",
      "INFO - 16:25:07: EPOCH - 24 : training on 313698 raw words (81502 effective words) took 0.7s, 111155 effective words/s\n",
      "INFO - 16:25:08: worker thread finished; awaiting finish of 6 more threads\n",
      "INFO - 16:25:08: worker thread finished; awaiting finish of 5 more threads\n",
      "INFO - 16:25:08: worker thread finished; awaiting finish of 4 more threads\n",
      "INFO - 16:25:08: worker thread finished; awaiting finish of 3 more threads\n",
      "INFO - 16:25:08: worker thread finished; awaiting finish of 2 more threads\n",
      "INFO - 16:25:08: worker thread finished; awaiting finish of 1 more threads\n",
      "INFO - 16:25:08: worker thread finished; awaiting finish of 0 more threads\n",
      "INFO - 16:25:08: EPOCH - 25 : training on 313698 raw words (81763 effective words) took 0.5s, 154022 effective words/s\n",
      "INFO - 16:25:08: worker thread finished; awaiting finish of 6 more threads\n",
      "INFO - 16:25:08: worker thread finished; awaiting finish of 5 more threads\n",
      "INFO - 16:25:08: worker thread finished; awaiting finish of 4 more threads\n",
      "INFO - 16:25:08: worker thread finished; awaiting finish of 3 more threads\n",
      "INFO - 16:25:08: worker thread finished; awaiting finish of 2 more threads\n",
      "INFO - 16:25:08: worker thread finished; awaiting finish of 1 more threads\n",
      "INFO - 16:25:08: worker thread finished; awaiting finish of 0 more threads\n",
      "INFO - 16:25:08: EPOCH - 26 : training on 313698 raw words (81836 effective words) took 0.5s, 177270 effective words/s\n",
      "INFO - 16:25:09: worker thread finished; awaiting finish of 6 more threads\n",
      "INFO - 16:25:09: worker thread finished; awaiting finish of 5 more threads\n",
      "INFO - 16:25:09: worker thread finished; awaiting finish of 4 more threads\n",
      "INFO - 16:25:09: worker thread finished; awaiting finish of 3 more threads\n",
      "INFO - 16:25:09: worker thread finished; awaiting finish of 2 more threads\n",
      "INFO - 16:25:09: worker thread finished; awaiting finish of 1 more threads\n",
      "INFO - 16:25:09: worker thread finished; awaiting finish of 0 more threads\n",
      "INFO - 16:25:09: EPOCH - 27 : training on 313698 raw words (81660 effective words) took 0.6s, 145954 effective words/s\n",
      "INFO - 16:25:09: worker thread finished; awaiting finish of 6 more threads\n",
      "INFO - 16:25:09: worker thread finished; awaiting finish of 5 more threads\n",
      "INFO - 16:25:09: worker thread finished; awaiting finish of 4 more threads\n",
      "INFO - 16:25:09: worker thread finished; awaiting finish of 3 more threads\n",
      "INFO - 16:25:09: worker thread finished; awaiting finish of 2 more threads\n",
      "INFO - 16:25:09: worker thread finished; awaiting finish of 1 more threads\n",
      "INFO - 16:25:09: worker thread finished; awaiting finish of 0 more threads\n",
      "INFO - 16:25:09: EPOCH - 28 : training on 313698 raw words (81697 effective words) took 0.5s, 173392 effective words/s\n",
      "INFO - 16:25:10: worker thread finished; awaiting finish of 6 more threads\n",
      "INFO - 16:25:10: worker thread finished; awaiting finish of 5 more threads\n",
      "INFO - 16:25:10: worker thread finished; awaiting finish of 4 more threads\n",
      "INFO - 16:25:10: worker thread finished; awaiting finish of 3 more threads\n",
      "INFO - 16:25:10: worker thread finished; awaiting finish of 2 more threads\n",
      "INFO - 16:25:10: worker thread finished; awaiting finish of 1 more threads\n",
      "INFO - 16:25:10: worker thread finished; awaiting finish of 0 more threads\n",
      "INFO - 16:25:10: EPOCH - 29 : training on 313698 raw words (81475 effective words) took 0.5s, 158684 effective words/s\n",
      "INFO - 16:25:10: worker thread finished; awaiting finish of 6 more threads\n",
      "INFO - 16:25:10: worker thread finished; awaiting finish of 5 more threads\n",
      "INFO - 16:25:10: worker thread finished; awaiting finish of 4 more threads\n",
      "INFO - 16:25:10: worker thread finished; awaiting finish of 3 more threads\n",
      "INFO - 16:25:10: worker thread finished; awaiting finish of 2 more threads\n",
      "INFO - 16:25:10: worker thread finished; awaiting finish of 1 more threads\n",
      "INFO - 16:25:10: worker thread finished; awaiting finish of 0 more threads\n",
      "INFO - 16:25:10: EPOCH - 30 : training on 313698 raw words (81708 effective words) took 0.5s, 167159 effective words/s\n",
      "INFO - 16:25:10: Word2Vec lifecycle event {'msg': 'training on 9410940 raw words (2446044 effective words) took 15.8s, 155173 effective words/s', 'datetime': '2025-02-17T16:25:10.687829', 'gensim': '4.1.2', 'python': '3.9.12 (main, Apr  5 2022, 01:53:17) \\n[Clang 12.0.0 ]', 'platform': 'macOS-10.16-x86_64-i386-64bit', 'event': 'train'}\n",
      "/var/folders/4q/df2s_rt97qx792m9vycfqjdc0000gn/T/ipykernel_7277/2369022916.py:7: DeprecationWarning: Call to deprecated `init_sims` (Gensim 4.0.0 implemented internal optimizations that make calls to init_sims() unnecessary. init_sims() is now obsoleted and will be completely removed in future versions. See https://github.com/RaRe-Technologies/gensim/wiki/Migrating-from-Gensim-3.x-to-4).\n",
      "  w2v_model.init_sims(replace=True)\n",
      "WARNING - 16:25:10: destructive init_sims(replace=True) deprecated & no longer required for space-efficiency\n"
     ]
    },
    {
     "name": "stdout",
     "output_type": "stream",
     "text": [
      "Time to train the model: 0.26 mins\n"
     ]
    }
   ],
   "source": [
    "start = time()\n",
    "\n",
    "w2v_model.train(sentences, total_examples=w2v_model.corpus_count, epochs=30, report_delay=1)\n",
    "\n",
    "print('Time to train the model: {} mins'.format(round((time() - start) / 60, 2)))\n",
    "\n",
    "w2v_model.init_sims(replace=True)"
   ],
   "metadata": {
    "collapsed": false,
    "ExecuteTime": {
     "end_time": "2025-02-17T21:25:10.698263Z",
     "start_time": "2025-02-17T21:24:54.925145Z"
    }
   },
   "id": "e7f0c88ddf39e9bc"
  },
  {
   "cell_type": "code",
   "execution_count": 20,
   "outputs": [
    {
     "name": "stderr",
     "output_type": "stream",
     "text": [
      "INFO - 16:25:18: Word2Vec lifecycle event {'fname_or_handle': 'word2vec.model', 'separately': 'None', 'sep_limit': 10485760, 'ignore': frozenset(), 'datetime': '2025-02-17T16:25:18.505247', 'gensim': '4.1.2', 'python': '3.9.12 (main, Apr  5 2022, 01:53:17) \\n[Clang 12.0.0 ]', 'platform': 'macOS-10.16-x86_64-i386-64bit', 'event': 'saving'}\n",
      "INFO - 16:25:18: not storing attribute cum_table\n",
      "INFO - 16:25:18: saved word2vec.model\n"
     ]
    }
   ],
   "source": [
    "w2v_model.save(\"word2vec.model\")"
   ],
   "metadata": {
    "collapsed": false,
    "ExecuteTime": {
     "end_time": "2025-02-17T21:25:18.574526Z",
     "start_time": "2025-02-17T21:25:18.508096Z"
    }
   },
   "id": "f4a17d1e63573fec"
  },
  {
   "cell_type": "code",
   "execution_count": 21,
   "outputs": [],
   "source": [
    "from gensim.models import Word2Vec\n",
    "from sklearn.cluster import KMeans"
   ],
   "metadata": {
    "collapsed": false,
    "ExecuteTime": {
     "end_time": "2025-02-17T21:25:30.895992Z",
     "start_time": "2025-02-17T21:25:30.758376Z"
    }
   },
   "id": "27e0fa425dd7607c"
  },
  {
   "cell_type": "code",
   "execution_count": 24,
   "outputs": [
    {
     "name": "stderr",
     "output_type": "stream",
     "text": [
      "INFO - 16:26:42: loading Word2Vec object from word2vec.model\n",
      "INFO - 16:26:42: loading wv recursively from word2vec.model.wv.* with mmap=None\n",
      "INFO - 16:26:42: setting ignored attribute cum_table to None\n",
      "INFO - 16:26:43: Word2Vec lifecycle event {'fname': 'word2vec.model', 'datetime': '2025-02-17T16:26:43.076379', 'gensim': '4.1.2', 'python': '3.9.12 (main, Apr  5 2022, 01:53:17) \\n[Clang 12.0.0 ]', 'platform': 'macOS-10.16-x86_64-i386-64bit', 'event': 'loaded'}\n"
     ]
    }
   ],
   "source": [
    "word_vectors = Word2Vec.load(\"word2vec.model\").wv"
   ],
   "metadata": {
    "collapsed": false,
    "ExecuteTime": {
     "end_time": "2025-02-17T21:26:43.082713Z",
     "start_time": "2025-02-17T21:26:42.966123Z"
    }
   },
   "id": "3e24752d8db4dd3b"
  },
  {
   "cell_type": "code",
   "execution_count": 30,
   "outputs": [
    {
     "ename": "AttributeError",
     "evalue": "'NoneType' object has no attribute 'split'",
     "output_type": "error",
     "traceback": [
      "\u001B[0;31m---------------------------------------------------------------------------\u001B[0m",
      "\u001B[0;31mAttributeError\u001B[0m                            Traceback (most recent call last)",
      "Input \u001B[0;32mIn [30]\u001B[0m, in \u001B[0;36m<cell line: 1>\u001B[0;34m()\u001B[0m\n\u001B[0;32m----> 1\u001B[0m model \u001B[38;5;241m=\u001B[39m \u001B[43mKMeans\u001B[49m\u001B[43m(\u001B[49m\u001B[43mn_clusters\u001B[49m\u001B[38;5;241;43m=\u001B[39;49m\u001B[38;5;241;43m3\u001B[39;49m\u001B[43m,\u001B[49m\u001B[43m \u001B[49m\u001B[43mmax_iter\u001B[49m\u001B[38;5;241;43m=\u001B[39;49m\u001B[38;5;241;43m1000\u001B[39;49m\u001B[43m,\u001B[49m\u001B[43m \u001B[49m\u001B[43mrandom_state\u001B[49m\u001B[38;5;241;43m=\u001B[39;49m\u001B[38;5;28;43;01mTrue\u001B[39;49;00m\u001B[43m,\u001B[49m\u001B[43m \u001B[49m\u001B[43mn_init\u001B[49m\u001B[38;5;241;43m=\u001B[39;49m\u001B[38;5;241;43m50\u001B[39;49m\u001B[43m)\u001B[49m\u001B[38;5;241;43m.\u001B[39;49m\u001B[43mfit\u001B[49m\u001B[43m(\u001B[49m\u001B[43mX\u001B[49m\u001B[38;5;241;43m=\u001B[39;49m\u001B[43mword_vectors\u001B[49m\u001B[38;5;241;43m.\u001B[39;49m\u001B[43mvectors\u001B[49m\u001B[38;5;241;43m.\u001B[39;49m\u001B[43mastype\u001B[49m\u001B[43m(\u001B[49m\u001B[38;5;124;43m'\u001B[39;49m\u001B[38;5;124;43mdouble\u001B[39;49m\u001B[38;5;124;43m'\u001B[39;49m\u001B[43m)\u001B[49m\u001B[43m)\u001B[49m\n",
      "File \u001B[0;32m~/opt/anaconda3/lib/python3.9/site-packages/sklearn/base.py:1152\u001B[0m, in \u001B[0;36m_fit_context.<locals>.decorator.<locals>.wrapper\u001B[0;34m(estimator, *args, **kwargs)\u001B[0m\n\u001B[1;32m   1145\u001B[0m     estimator\u001B[38;5;241m.\u001B[39m_validate_params()\n\u001B[1;32m   1147\u001B[0m \u001B[38;5;28;01mwith\u001B[39;00m config_context(\n\u001B[1;32m   1148\u001B[0m     skip_parameter_validation\u001B[38;5;241m=\u001B[39m(\n\u001B[1;32m   1149\u001B[0m         prefer_skip_nested_validation \u001B[38;5;129;01mor\u001B[39;00m global_skip_validation\n\u001B[1;32m   1150\u001B[0m     )\n\u001B[1;32m   1151\u001B[0m ):\n\u001B[0;32m-> 1152\u001B[0m     \u001B[38;5;28;01mreturn\u001B[39;00m \u001B[43mfit_method\u001B[49m\u001B[43m(\u001B[49m\u001B[43mestimator\u001B[49m\u001B[43m,\u001B[49m\u001B[43m \u001B[49m\u001B[38;5;241;43m*\u001B[39;49m\u001B[43margs\u001B[49m\u001B[43m,\u001B[49m\u001B[43m \u001B[49m\u001B[38;5;241;43m*\u001B[39;49m\u001B[38;5;241;43m*\u001B[39;49m\u001B[43mkwargs\u001B[49m\u001B[43m)\u001B[49m\n",
      "File \u001B[0;32m~/opt/anaconda3/lib/python3.9/site-packages/sklearn/cluster/_kmeans.py:1530\u001B[0m, in \u001B[0;36mKMeans.fit\u001B[0;34m(self, X, y, sample_weight)\u001B[0m\n\u001B[1;32m   1527\u001B[0m     \u001B[38;5;28mprint\u001B[39m(\u001B[38;5;124m\"\u001B[39m\u001B[38;5;124mInitialization complete\u001B[39m\u001B[38;5;124m\"\u001B[39m)\n\u001B[1;32m   1529\u001B[0m \u001B[38;5;66;03m# run a k-means once\u001B[39;00m\n\u001B[0;32m-> 1530\u001B[0m labels, inertia, centers, n_iter_ \u001B[38;5;241m=\u001B[39m \u001B[43mkmeans_single\u001B[49m\u001B[43m(\u001B[49m\n\u001B[1;32m   1531\u001B[0m \u001B[43m    \u001B[49m\u001B[43mX\u001B[49m\u001B[43m,\u001B[49m\n\u001B[1;32m   1532\u001B[0m \u001B[43m    \u001B[49m\u001B[43msample_weight\u001B[49m\u001B[43m,\u001B[49m\n\u001B[1;32m   1533\u001B[0m \u001B[43m    \u001B[49m\u001B[43mcenters_init\u001B[49m\u001B[43m,\u001B[49m\n\u001B[1;32m   1534\u001B[0m \u001B[43m    \u001B[49m\u001B[43mmax_iter\u001B[49m\u001B[38;5;241;43m=\u001B[39;49m\u001B[38;5;28;43mself\u001B[39;49m\u001B[38;5;241;43m.\u001B[39;49m\u001B[43mmax_iter\u001B[49m\u001B[43m,\u001B[49m\n\u001B[1;32m   1535\u001B[0m \u001B[43m    \u001B[49m\u001B[43mverbose\u001B[49m\u001B[38;5;241;43m=\u001B[39;49m\u001B[38;5;28;43mself\u001B[39;49m\u001B[38;5;241;43m.\u001B[39;49m\u001B[43mverbose\u001B[49m\u001B[43m,\u001B[49m\n\u001B[1;32m   1536\u001B[0m \u001B[43m    \u001B[49m\u001B[43mtol\u001B[49m\u001B[38;5;241;43m=\u001B[39;49m\u001B[38;5;28;43mself\u001B[39;49m\u001B[38;5;241;43m.\u001B[39;49m\u001B[43m_tol\u001B[49m\u001B[43m,\u001B[49m\n\u001B[1;32m   1537\u001B[0m \u001B[43m    \u001B[49m\u001B[43mn_threads\u001B[49m\u001B[38;5;241;43m=\u001B[39;49m\u001B[38;5;28;43mself\u001B[39;49m\u001B[38;5;241;43m.\u001B[39;49m\u001B[43m_n_threads\u001B[49m\u001B[43m,\u001B[49m\n\u001B[1;32m   1538\u001B[0m \u001B[43m\u001B[49m\u001B[43m)\u001B[49m\n\u001B[1;32m   1540\u001B[0m \u001B[38;5;66;03m# determine if these results are the best so far\u001B[39;00m\n\u001B[1;32m   1541\u001B[0m \u001B[38;5;66;03m# we chose a new run if it has a better inertia and the clustering is\u001B[39;00m\n\u001B[1;32m   1542\u001B[0m \u001B[38;5;66;03m# different from the best so far (it's possible that the inertia is\u001B[39;00m\n\u001B[1;32m   1543\u001B[0m \u001B[38;5;66;03m# slightly better even if the clustering is the same with potentially\u001B[39;00m\n\u001B[1;32m   1544\u001B[0m \u001B[38;5;66;03m# permuted labels, due to rounding errors)\u001B[39;00m\n\u001B[1;32m   1545\u001B[0m \u001B[38;5;28;01mif\u001B[39;00m best_inertia \u001B[38;5;129;01mis\u001B[39;00m \u001B[38;5;28;01mNone\u001B[39;00m \u001B[38;5;129;01mor\u001B[39;00m (\n\u001B[1;32m   1546\u001B[0m     inertia \u001B[38;5;241m<\u001B[39m best_inertia\n\u001B[1;32m   1547\u001B[0m     \u001B[38;5;129;01mand\u001B[39;00m \u001B[38;5;129;01mnot\u001B[39;00m _is_same_clustering(labels, best_labels, \u001B[38;5;28mself\u001B[39m\u001B[38;5;241m.\u001B[39mn_clusters)\n\u001B[1;32m   1548\u001B[0m ):\n",
      "File \u001B[0;32m~/opt/anaconda3/lib/python3.9/site-packages/sklearn/cluster/_kmeans.py:688\u001B[0m, in \u001B[0;36m_kmeans_single_lloyd\u001B[0;34m(X, sample_weight, centers_init, max_iter, verbose, tol, n_threads)\u001B[0m\n\u001B[1;32m    684\u001B[0m strict_convergence \u001B[38;5;241m=\u001B[39m \u001B[38;5;28;01mFalse\u001B[39;00m\n\u001B[1;32m    686\u001B[0m \u001B[38;5;66;03m# Threadpoolctl context to limit the number of threads in second level of\u001B[39;00m\n\u001B[1;32m    687\u001B[0m \u001B[38;5;66;03m# nested parallelism (i.e. BLAS) to avoid oversubscription.\u001B[39;00m\n\u001B[0;32m--> 688\u001B[0m \u001B[38;5;28;01mwith\u001B[39;00m \u001B[43mthreadpool_limits\u001B[49m\u001B[43m(\u001B[49m\u001B[43mlimits\u001B[49m\u001B[38;5;241;43m=\u001B[39;49m\u001B[38;5;241;43m1\u001B[39;49m\u001B[43m,\u001B[49m\u001B[43m \u001B[49m\u001B[43muser_api\u001B[49m\u001B[38;5;241;43m=\u001B[39;49m\u001B[38;5;124;43m\"\u001B[39;49m\u001B[38;5;124;43mblas\u001B[39;49m\u001B[38;5;124;43m\"\u001B[39;49m\u001B[43m)\u001B[49m:\n\u001B[1;32m    689\u001B[0m     \u001B[38;5;28;01mfor\u001B[39;00m i \u001B[38;5;129;01min\u001B[39;00m \u001B[38;5;28mrange\u001B[39m(max_iter):\n\u001B[1;32m    690\u001B[0m         lloyd_iter(\n\u001B[1;32m    691\u001B[0m             X,\n\u001B[1;32m    692\u001B[0m             sample_weight,\n\u001B[0;32m   (...)\u001B[0m\n\u001B[1;32m    698\u001B[0m             n_threads,\n\u001B[1;32m    699\u001B[0m         )\n",
      "File \u001B[0;32m~/opt/anaconda3/lib/python3.9/site-packages/sklearn/utils/fixes.py:74\u001B[0m, in \u001B[0;36mthreadpool_limits\u001B[0;34m(limits, user_api)\u001B[0m\n\u001B[1;32m     72\u001B[0m     \u001B[38;5;28;01mreturn\u001B[39;00m controller\u001B[38;5;241m.\u001B[39mlimit(limits\u001B[38;5;241m=\u001B[39mlimits, user_api\u001B[38;5;241m=\u001B[39muser_api)\n\u001B[1;32m     73\u001B[0m \u001B[38;5;28;01melse\u001B[39;00m:\n\u001B[0;32m---> 74\u001B[0m     \u001B[38;5;28;01mreturn\u001B[39;00m \u001B[43mthreadpoolctl\u001B[49m\u001B[38;5;241;43m.\u001B[39;49m\u001B[43mthreadpool_limits\u001B[49m\u001B[43m(\u001B[49m\u001B[43mlimits\u001B[49m\u001B[38;5;241;43m=\u001B[39;49m\u001B[43mlimits\u001B[49m\u001B[43m,\u001B[49m\u001B[43m \u001B[49m\u001B[43muser_api\u001B[49m\u001B[38;5;241;43m=\u001B[39;49m\u001B[43muser_api\u001B[49m\u001B[43m)\u001B[49m\n",
      "File \u001B[0;32m~/opt/anaconda3/lib/python3.9/site-packages/threadpoolctl.py:171\u001B[0m, in \u001B[0;36mthreadpool_limits.__init__\u001B[0;34m(self, limits, user_api)\u001B[0m\n\u001B[1;32m    167\u001B[0m \u001B[38;5;28;01mdef\u001B[39;00m \u001B[38;5;21m__init__\u001B[39m(\u001B[38;5;28mself\u001B[39m, limits\u001B[38;5;241m=\u001B[39m\u001B[38;5;28;01mNone\u001B[39;00m, user_api\u001B[38;5;241m=\u001B[39m\u001B[38;5;28;01mNone\u001B[39;00m):\n\u001B[1;32m    168\u001B[0m     \u001B[38;5;28mself\u001B[39m\u001B[38;5;241m.\u001B[39m_limits, \u001B[38;5;28mself\u001B[39m\u001B[38;5;241m.\u001B[39m_user_api, \u001B[38;5;28mself\u001B[39m\u001B[38;5;241m.\u001B[39m_prefixes \u001B[38;5;241m=\u001B[39m \\\n\u001B[1;32m    169\u001B[0m         \u001B[38;5;28mself\u001B[39m\u001B[38;5;241m.\u001B[39m_check_params(limits, user_api)\n\u001B[0;32m--> 171\u001B[0m     \u001B[38;5;28mself\u001B[39m\u001B[38;5;241m.\u001B[39m_original_info \u001B[38;5;241m=\u001B[39m \u001B[38;5;28;43mself\u001B[39;49m\u001B[38;5;241;43m.\u001B[39;49m\u001B[43m_set_threadpool_limits\u001B[49m\u001B[43m(\u001B[49m\u001B[43m)\u001B[49m\n",
      "File \u001B[0;32m~/opt/anaconda3/lib/python3.9/site-packages/threadpoolctl.py:268\u001B[0m, in \u001B[0;36mthreadpool_limits._set_threadpool_limits\u001B[0;34m(self)\u001B[0m\n\u001B[1;32m    265\u001B[0m \u001B[38;5;28;01mif\u001B[39;00m \u001B[38;5;28mself\u001B[39m\u001B[38;5;241m.\u001B[39m_limits \u001B[38;5;129;01mis\u001B[39;00m \u001B[38;5;28;01mNone\u001B[39;00m:\n\u001B[1;32m    266\u001B[0m     \u001B[38;5;28;01mreturn\u001B[39;00m \u001B[38;5;28;01mNone\u001B[39;00m\n\u001B[0;32m--> 268\u001B[0m modules \u001B[38;5;241m=\u001B[39m \u001B[43m_ThreadpoolInfo\u001B[49m\u001B[43m(\u001B[49m\u001B[43mprefixes\u001B[49m\u001B[38;5;241;43m=\u001B[39;49m\u001B[38;5;28;43mself\u001B[39;49m\u001B[38;5;241;43m.\u001B[39;49m\u001B[43m_prefixes\u001B[49m\u001B[43m,\u001B[49m\n\u001B[1;32m    269\u001B[0m \u001B[43m                          \u001B[49m\u001B[43muser_api\u001B[49m\u001B[38;5;241;43m=\u001B[39;49m\u001B[38;5;28;43mself\u001B[39;49m\u001B[38;5;241;43m.\u001B[39;49m\u001B[43m_user_api\u001B[49m\u001B[43m)\u001B[49m\n\u001B[1;32m    270\u001B[0m \u001B[38;5;28;01mfor\u001B[39;00m module \u001B[38;5;129;01min\u001B[39;00m modules:\n\u001B[1;32m    271\u001B[0m     \u001B[38;5;66;03m# self._limits is a dict {key: num_threads} where key is either\u001B[39;00m\n\u001B[1;32m    272\u001B[0m     \u001B[38;5;66;03m# a prefix or a user_api. If a module matches both, the limit\u001B[39;00m\n\u001B[1;32m    273\u001B[0m     \u001B[38;5;66;03m# corresponding to the prefix is chosed.\u001B[39;00m\n\u001B[1;32m    274\u001B[0m     \u001B[38;5;28;01mif\u001B[39;00m module\u001B[38;5;241m.\u001B[39mprefix \u001B[38;5;129;01min\u001B[39;00m \u001B[38;5;28mself\u001B[39m\u001B[38;5;241m.\u001B[39m_limits:\n",
      "File \u001B[0;32m~/opt/anaconda3/lib/python3.9/site-packages/threadpoolctl.py:340\u001B[0m, in \u001B[0;36m_ThreadpoolInfo.__init__\u001B[0;34m(self, user_api, prefixes, modules)\u001B[0m\n\u001B[1;32m    337\u001B[0m     \u001B[38;5;28mself\u001B[39m\u001B[38;5;241m.\u001B[39muser_api \u001B[38;5;241m=\u001B[39m [] \u001B[38;5;28;01mif\u001B[39;00m user_api \u001B[38;5;129;01mis\u001B[39;00m \u001B[38;5;28;01mNone\u001B[39;00m \u001B[38;5;28;01melse\u001B[39;00m user_api\n\u001B[1;32m    339\u001B[0m     \u001B[38;5;28mself\u001B[39m\u001B[38;5;241m.\u001B[39mmodules \u001B[38;5;241m=\u001B[39m []\n\u001B[0;32m--> 340\u001B[0m     \u001B[38;5;28;43mself\u001B[39;49m\u001B[38;5;241;43m.\u001B[39;49m\u001B[43m_load_modules\u001B[49m\u001B[43m(\u001B[49m\u001B[43m)\u001B[49m\n\u001B[1;32m    341\u001B[0m     \u001B[38;5;28mself\u001B[39m\u001B[38;5;241m.\u001B[39m_warn_if_incompatible_openmp()\n\u001B[1;32m    342\u001B[0m \u001B[38;5;28;01melse\u001B[39;00m:\n",
      "File \u001B[0;32m~/opt/anaconda3/lib/python3.9/site-packages/threadpoolctl.py:371\u001B[0m, in \u001B[0;36m_ThreadpoolInfo._load_modules\u001B[0;34m(self)\u001B[0m\n\u001B[1;32m    369\u001B[0m \u001B[38;5;124;03m\"\"\"Loop through loaded libraries and store supported ones\"\"\"\u001B[39;00m\n\u001B[1;32m    370\u001B[0m \u001B[38;5;28;01mif\u001B[39;00m sys\u001B[38;5;241m.\u001B[39mplatform \u001B[38;5;241m==\u001B[39m \u001B[38;5;124m\"\u001B[39m\u001B[38;5;124mdarwin\u001B[39m\u001B[38;5;124m\"\u001B[39m:\n\u001B[0;32m--> 371\u001B[0m     \u001B[38;5;28;43mself\u001B[39;49m\u001B[38;5;241;43m.\u001B[39;49m\u001B[43m_find_modules_with_dyld\u001B[49m\u001B[43m(\u001B[49m\u001B[43m)\u001B[49m\n\u001B[1;32m    372\u001B[0m \u001B[38;5;28;01melif\u001B[39;00m sys\u001B[38;5;241m.\u001B[39mplatform \u001B[38;5;241m==\u001B[39m \u001B[38;5;124m\"\u001B[39m\u001B[38;5;124mwin32\u001B[39m\u001B[38;5;124m\"\u001B[39m:\n\u001B[1;32m    373\u001B[0m     \u001B[38;5;28mself\u001B[39m\u001B[38;5;241m.\u001B[39m_find_modules_with_enum_process_module_ex()\n",
      "File \u001B[0;32m~/opt/anaconda3/lib/python3.9/site-packages/threadpoolctl.py:428\u001B[0m, in \u001B[0;36m_ThreadpoolInfo._find_modules_with_dyld\u001B[0;34m(self)\u001B[0m\n\u001B[1;32m    425\u001B[0m filepath \u001B[38;5;241m=\u001B[39m filepath\u001B[38;5;241m.\u001B[39mdecode(\u001B[38;5;124m\"\u001B[39m\u001B[38;5;124mutf-8\u001B[39m\u001B[38;5;124m\"\u001B[39m)\n\u001B[1;32m    427\u001B[0m \u001B[38;5;66;03m# Store the module if it is supported and selected\u001B[39;00m\n\u001B[0;32m--> 428\u001B[0m \u001B[38;5;28;43mself\u001B[39;49m\u001B[38;5;241;43m.\u001B[39;49m\u001B[43m_make_module_from_path\u001B[49m\u001B[43m(\u001B[49m\u001B[43mfilepath\u001B[49m\u001B[43m)\u001B[49m\n",
      "File \u001B[0;32m~/opt/anaconda3/lib/python3.9/site-packages/threadpoolctl.py:515\u001B[0m, in \u001B[0;36m_ThreadpoolInfo._make_module_from_path\u001B[0;34m(self, filepath)\u001B[0m\n\u001B[1;32m    513\u001B[0m \u001B[38;5;28;01mif\u001B[39;00m prefix \u001B[38;5;129;01min\u001B[39;00m \u001B[38;5;28mself\u001B[39m\u001B[38;5;241m.\u001B[39mprefixes \u001B[38;5;129;01mor\u001B[39;00m user_api \u001B[38;5;129;01min\u001B[39;00m \u001B[38;5;28mself\u001B[39m\u001B[38;5;241m.\u001B[39muser_api:\n\u001B[1;32m    514\u001B[0m     module_class \u001B[38;5;241m=\u001B[39m \u001B[38;5;28mglobals\u001B[39m()[module_class]\n\u001B[0;32m--> 515\u001B[0m     module \u001B[38;5;241m=\u001B[39m \u001B[43mmodule_class\u001B[49m\u001B[43m(\u001B[49m\u001B[43mfilepath\u001B[49m\u001B[43m,\u001B[49m\u001B[43m \u001B[49m\u001B[43mprefix\u001B[49m\u001B[43m,\u001B[49m\u001B[43m \u001B[49m\u001B[43muser_api\u001B[49m\u001B[43m,\u001B[49m\u001B[43m \u001B[49m\u001B[43minternal_api\u001B[49m\u001B[43m)\u001B[49m\n\u001B[1;32m    516\u001B[0m     \u001B[38;5;28mself\u001B[39m\u001B[38;5;241m.\u001B[39mmodules\u001B[38;5;241m.\u001B[39mappend(module)\n",
      "File \u001B[0;32m~/opt/anaconda3/lib/python3.9/site-packages/threadpoolctl.py:606\u001B[0m, in \u001B[0;36m_Module.__init__\u001B[0;34m(self, filepath, prefix, user_api, internal_api)\u001B[0m\n\u001B[1;32m    604\u001B[0m \u001B[38;5;28mself\u001B[39m\u001B[38;5;241m.\u001B[39minternal_api \u001B[38;5;241m=\u001B[39m internal_api\n\u001B[1;32m    605\u001B[0m \u001B[38;5;28mself\u001B[39m\u001B[38;5;241m.\u001B[39m_dynlib \u001B[38;5;241m=\u001B[39m ctypes\u001B[38;5;241m.\u001B[39mCDLL(filepath, mode\u001B[38;5;241m=\u001B[39m_RTLD_NOLOAD)\n\u001B[0;32m--> 606\u001B[0m \u001B[38;5;28mself\u001B[39m\u001B[38;5;241m.\u001B[39mversion \u001B[38;5;241m=\u001B[39m \u001B[38;5;28;43mself\u001B[39;49m\u001B[38;5;241;43m.\u001B[39;49m\u001B[43mget_version\u001B[49m\u001B[43m(\u001B[49m\u001B[43m)\u001B[49m\n\u001B[1;32m    607\u001B[0m \u001B[38;5;28mself\u001B[39m\u001B[38;5;241m.\u001B[39mnum_threads \u001B[38;5;241m=\u001B[39m \u001B[38;5;28mself\u001B[39m\u001B[38;5;241m.\u001B[39mget_num_threads()\n\u001B[1;32m    608\u001B[0m \u001B[38;5;28mself\u001B[39m\u001B[38;5;241m.\u001B[39m_get_extra_info()\n",
      "File \u001B[0;32m~/opt/anaconda3/lib/python3.9/site-packages/threadpoolctl.py:646\u001B[0m, in \u001B[0;36m_OpenBLASModule.get_version\u001B[0;34m(self)\u001B[0m\n\u001B[1;32m    643\u001B[0m get_config \u001B[38;5;241m=\u001B[39m \u001B[38;5;28mgetattr\u001B[39m(\u001B[38;5;28mself\u001B[39m\u001B[38;5;241m.\u001B[39m_dynlib, \u001B[38;5;124m\"\u001B[39m\u001B[38;5;124mopenblas_get_config\u001B[39m\u001B[38;5;124m\"\u001B[39m,\n\u001B[1;32m    644\u001B[0m                      \u001B[38;5;28;01mlambda\u001B[39;00m: \u001B[38;5;28;01mNone\u001B[39;00m)\n\u001B[1;32m    645\u001B[0m get_config\u001B[38;5;241m.\u001B[39mrestype \u001B[38;5;241m=\u001B[39m ctypes\u001B[38;5;241m.\u001B[39mc_char_p\n\u001B[0;32m--> 646\u001B[0m config \u001B[38;5;241m=\u001B[39m \u001B[43mget_config\u001B[49m\u001B[43m(\u001B[49m\u001B[43m)\u001B[49m\u001B[38;5;241;43m.\u001B[39;49m\u001B[43msplit\u001B[49m()\n\u001B[1;32m    647\u001B[0m \u001B[38;5;28;01mif\u001B[39;00m config[\u001B[38;5;241m0\u001B[39m] \u001B[38;5;241m==\u001B[39m \u001B[38;5;124mb\u001B[39m\u001B[38;5;124m\"\u001B[39m\u001B[38;5;124mOpenBLAS\u001B[39m\u001B[38;5;124m\"\u001B[39m:\n\u001B[1;32m    648\u001B[0m     \u001B[38;5;28;01mreturn\u001B[39;00m config[\u001B[38;5;241m1\u001B[39m]\u001B[38;5;241m.\u001B[39mdecode(\u001B[38;5;124m\"\u001B[39m\u001B[38;5;124mutf-8\u001B[39m\u001B[38;5;124m\"\u001B[39m)\n",
      "\u001B[0;31mAttributeError\u001B[0m: 'NoneType' object has no attribute 'split'"
     ]
    }
   ],
   "source": [
    "model = KMeans(n_clusters=3, max_iter=1000, random_state=True, n_init=50).fit(X=word_vectors.vectors.astype('double'))"
   ],
   "metadata": {
    "collapsed": false,
    "ExecuteTime": {
     "end_time": "2025-02-17T21:28:32.212332Z",
     "start_time": "2025-02-17T21:28:32.080864Z"
    }
   },
   "id": "f45b5af8202d9fe1"
  },
  {
   "cell_type": "code",
   "execution_count": 29,
   "outputs": [
    {
     "name": "stdout",
     "output_type": "stream",
     "text": [
      "Requirement already satisfied: threadpoolctl==3.1.0 in /Users/navneetparab/opt/anaconda3/lib/python3.9/site-packages (3.1.0)\r\n"
     ]
    }
   ],
   "source": [
    "word_vectors.similar_by_vector(model.cluster_centers_[1], topn=10, restrict_vocab=None)"
   ],
   "metadata": {
    "collapsed": false,
    "ExecuteTime": {
     "end_time": "2025-02-17T21:28:27.639452Z",
     "start_time": "2025-02-17T21:28:25.386684Z"
    }
   },
   "id": "3f0cb71dbd2c1754"
  },
  {
   "cell_type": "code",
   "execution_count": 27,
   "outputs": [
    {
     "name": "stdout",
     "output_type": "stream",
     "text": [
      "Requirement already satisfied: pip in /Users/navneetparab/opt/anaconda3/lib/python3.9/site-packages (24.3.1)\r\n",
      "Collecting pip\r\n",
      "  Downloading pip-25.0.1-py3-none-any.whl.metadata (3.7 kB)\r\n",
      "Downloading pip-25.0.1-py3-none-any.whl (1.8 MB)\r\n",
      "\u001B[2K   \u001B[90m━━━━━━━━━━━━━━━━━━━━━━━━━━━━━━━━━━━━━━━━\u001B[0m \u001B[32m1.8/1.8 MB\u001B[0m \u001B[31m1.9 MB/s\u001B[0m eta \u001B[36m0:00:00\u001B[0ma \u001B[36m0:00:01\u001B[0m\r\n",
      "\u001B[?25hInstalling collected packages: pip\r\n",
      "  Attempting uninstall: pip\r\n",
      "    Found existing installation: pip 24.3.1\r\n",
      "    Uninstalling pip-24.3.1:\r\n",
      "      Successfully uninstalled pip-24.3.1\r\n",
      "Successfully installed pip-25.0.1\r\n"
     ]
    }
   ],
   "source": [
    "positive_cluster_index = 1\n",
    "positive_cluster_center = model.cluster_centers_[positive_cluster_index]\n",
    "negative_cluster_center = model.cluster_centers_[1-positive_cluster_index]"
   ],
   "metadata": {
    "collapsed": false,
    "ExecuteTime": {
     "end_time": "2025-02-17T21:28:18.566923Z",
     "start_time": "2025-02-17T21:28:14.410660Z"
    }
   },
   "id": "d8b36fcc9c20bdef"
  },
  {
   "cell_type": "code",
   "execution_count": null,
   "outputs": [],
   "source": [
    "words = pd.DataFrame(word_vectors.index_to_key)\n",
    "words.columns = ['words']\n",
    "words['vectors'] = words.words.apply(lambda x: word_vectors[f'{x}'])\n",
    "words['cluster'] = words.vectors.apply(lambda x: model.predict([np.array(x)]))\n",
    "words.cluster = words.cluster.apply(lambda x: x[0])"
   ],
   "metadata": {
    "collapsed": false
   },
   "id": "87c1b00e3104199b"
  },
  {
   "cell_type": "code",
   "execution_count": null,
   "outputs": [],
   "source": [
    "words['cluster_value'] = [1 if i==positive_cluster_index else -1 for i in words.cluster]\n",
    "words['closeness_score'] = words.apply(lambda x: 1/(model.transform([x.vectors]).min()), axis=1)\n",
    "words['sentiment_coeff'] = words.closeness_score * words.cluster_value"
   ],
   "metadata": {
    "collapsed": false
   },
   "id": "40a8b1c040d1ddb1"
  }
 ],
 "metadata": {
  "kernelspec": {
   "display_name": "Python 3 (ipykernel)",
   "language": "python",
   "name": "python3"
  },
  "language_info": {
   "codemirror_mode": {
    "name": "ipython",
    "version": 3
   },
   "file_extension": ".py",
   "mimetype": "text/x-python",
   "name": "python",
   "nbconvert_exporter": "python",
   "pygments_lexer": "ipython3",
   "version": "3.9.13"
  }
 },
 "nbformat": 4,
 "nbformat_minor": 5
}
