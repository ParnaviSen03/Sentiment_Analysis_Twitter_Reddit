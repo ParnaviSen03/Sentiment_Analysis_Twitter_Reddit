{
 "cells": [
  {
   "cell_type": "code",
   "execution_count": 3,
   "id": "bbb83fa5",
   "metadata": {
    "ExecuteTime": {
     "end_time": "2025-02-03T18:56:37.835583Z",
     "start_time": "2025-02-03T18:56:35.782335Z"
    }
   },
   "outputs": [
    {
     "name": "stdout",
     "output_type": "stream",
     "text": [
      "Requirement already satisfied: praw in /Users/navneetparab/opt/anaconda3/lib/python3.9/site-packages (7.8.1)\r\n",
      "Requirement already satisfied: prawcore<3,>=2.4 in /Users/navneetparab/opt/anaconda3/lib/python3.9/site-packages (from praw) (2.4.0)\r\n",
      "Requirement already satisfied: update_checker>=0.18 in /Users/navneetparab/opt/anaconda3/lib/python3.9/site-packages (from praw) (0.18.0)\r\n",
      "Requirement already satisfied: websocket-client>=0.54.0 in /Users/navneetparab/opt/anaconda3/lib/python3.9/site-packages (from praw) (0.58.0)\r\n",
      "Requirement already satisfied: requests<3.0,>=2.6.0 in /Users/navneetparab/opt/anaconda3/lib/python3.9/site-packages (from prawcore<3,>=2.4->praw) (2.27.1)\r\n",
      "Requirement already satisfied: six in /Users/navneetparab/opt/anaconda3/lib/python3.9/site-packages (from websocket-client>=0.54.0->praw) (1.16.0)\r\n",
      "Requirement already satisfied: urllib3<1.27,>=1.21.1 in /Users/navneetparab/opt/anaconda3/lib/python3.9/site-packages (from requests<3.0,>=2.6.0->prawcore<3,>=2.4->praw) (1.26.9)\r\n",
      "Requirement already satisfied: certifi>=2017.4.17 in /Users/navneetparab/opt/anaconda3/lib/python3.9/site-packages (from requests<3.0,>=2.6.0->prawcore<3,>=2.4->praw) (2021.10.8)\r\n",
      "Requirement already satisfied: charset-normalizer~=2.0.0 in /Users/navneetparab/opt/anaconda3/lib/python3.9/site-packages (from requests<3.0,>=2.6.0->prawcore<3,>=2.4->praw) (2.0.4)\r\n",
      "Requirement already satisfied: idna<4,>=2.5 in /Users/navneetparab/opt/anaconda3/lib/python3.9/site-packages (from requests<3.0,>=2.6.0->prawcore<3,>=2.4->praw) (3.3)\r\n",
      "\r\n",
      "\u001B[1m[\u001B[0m\u001B[34;49mnotice\u001B[0m\u001B[1;39;49m]\u001B[0m\u001B[39;49m A new release of pip is available: \u001B[0m\u001B[31;49m24.3.1\u001B[0m\u001B[39;49m -> \u001B[0m\u001B[32;49m25.0\u001B[0m\r\n",
      "\u001B[1m[\u001B[0m\u001B[34;49mnotice\u001B[0m\u001B[1;39;49m]\u001B[0m\u001B[39;49m To update, run: \u001B[0m\u001B[32;49mpip install --upgrade pip\u001B[0m\r\n",
      "Note: you may need to restart the kernel to use updated packages.\n"
     ]
    }
   ],
   "source": [
    "pip install praw\n"
   ]
  },
  {
   "cell_type": "code",
   "execution_count": 4,
   "id": "23c1a6e3",
   "metadata": {
    "ExecuteTime": {
     "end_time": "2025-02-03T18:56:40.994231Z",
     "start_time": "2025-02-03T18:56:40.985404Z"
    }
   },
   "outputs": [],
   "source": [
    "import os\n"
   ]
  },
  {
   "cell_type": "code",
   "execution_count": 62,
   "id": "f14a3cb0",
   "metadata": {
    "ExecuteTime": {
     "end_time": "2025-02-07T22:15:59.371311Z",
     "start_time": "2025-02-07T22:08:23.973661Z"
    }
   },
   "outputs": [
    {
     "name": "stderr",
     "output_type": "stream",
     "text": [
      "990it [07:35,  2.17it/s]\n"
     ]
    }
   ],
   "source": [
    "import praw\n",
    "from prawcore.exceptions import NotFound\n",
    "import pandas as pd\n",
    "from tqdm import tqdm\n",
    "\n",
    "arr=[]\n",
    "reddit = praw.Reddit(\n",
    "    client_id='eLHIfVLEUxnTQlLlGt29_Q',\n",
    "    client_secret='xalSQxSsLr5oxApVsrobL5dyasmCOw',\n",
    "    user_agent='python:my_reddit_sentiment_app:v1.0.0 (by u/on_a_no_buy)'\n",
    ")\n",
    "\n",
    "try:\n",
    "    subreddit = reddit.subreddit('sneakers')\n",
    "    for post in tqdm(subreddit.hot(limit=1000)):\n",
    "        #print(post.title)\n",
    "        #print(post.selftext)\n",
    "        if len(post.comments) > 0:\n",
    "            comment=post.comments[0].body\n",
    "        else:\n",
    "            comment=\" \"\n",
    "        arr.append([post.title,post.selftext,post.upvote_ratio,post.created_utc,post.score,comment])\n",
    "except NotFound:\n",
    "    print(\"The requested resource was not found. Please check the subreddit name or resource ID.\")\n",
    "df_sneakers = pd.DataFrame(arr, columns=['Title', 'Body','Upvote_ratio','Timestamp','Upvote_num','comments'])\n"
   ]
  },
  {
   "cell_type": "code",
   "execution_count": 63,
   "id": "da1e5777",
   "metadata": {
    "ExecuteTime": {
     "end_time": "2025-02-07T22:15:59.412368Z",
     "start_time": "2025-02-07T22:15:59.400265Z"
    }
   },
   "outputs": [
    {
     "data": {
      "text/plain": "                                                 Title  \\\n0    Nikon releases the 125x optical zoom COOLPIX P...   \n1                Z 35mm f/1.2 S available for preorder   \n2               Is this the last king of the film era?   \n3            Welcoming the newest member of the family   \n4                                     Z6ii with 70-300   \n..                                                 ...   \n985                        NY Wildlife (zfc + 50 1.8s)   \n986                                D850 RAW converter?   \n987          What are the best cameras for a beginner?   \n988  Walking back from a fun event at Ventura harbo...   \n989                               Latte art. Nikon F2.   \n\n                                                  Body  Upvote_ratio  \\\n0                                                               0.97   \n1                                                               1.00   \n2                                                               0.98   \n3                                                               0.95   \n4                                                               0.98   \n..                                                 ...           ...   \n985                                                             0.99   \n986  Opinions on the best RAW converter for the D85...          1.00   \n987  **Feeling Overwhelmed by the Camera Market?**\\...          0.56   \n988  Nikon D500 and 35mm 1.8 with a  diffusion filt...          0.75   \n989                                                             1.00   \n\n        Timestamp  Upvote_num  \\\n0    1.738758e+09          73   \n1    1.738728e+09          65   \n2    1.738936e+09         201   \n3    1.738951e+09          85   \n4    1.738958e+09          32   \n..            ...         ...   \n985  1.737651e+09          37   \n986  1.737688e+09           5   \n987  1.737719e+09           1   \n988  1.737703e+09           2   \n989  1.737671e+09          10   \n\n                                              comments  \n0    Other than the USB-C port update, I’m not real...  \n1    Man, that took forever.  I remember fall of 20...  \n2    Yeppers, only reason why I haven’t picked up o...  \n3                Summoning their ultimate successor...  \n4           The Tamron 70-300? Great lens, I want one.  \n..                                                 ...  \n985  Exceptional shots! How did you get so close wi...  \n986  Best is up to you. There's literally hundreds ...  \n987  This gets asked roughly every 15 minutes in r/...  \n988                                                     \n989       Which lens did you use to take these photos?  \n\n[990 rows x 6 columns]",
      "text/html": "<div>\n<style scoped>\n    .dataframe tbody tr th:only-of-type {\n        vertical-align: middle;\n    }\n\n    .dataframe tbody tr th {\n        vertical-align: top;\n    }\n\n    .dataframe thead th {\n        text-align: right;\n    }\n</style>\n<table border=\"1\" class=\"dataframe\">\n  <thead>\n    <tr style=\"text-align: right;\">\n      <th></th>\n      <th>Title</th>\n      <th>Body</th>\n      <th>Upvote_ratio</th>\n      <th>Timestamp</th>\n      <th>Upvote_num</th>\n      <th>comments</th>\n    </tr>\n  </thead>\n  <tbody>\n    <tr>\n      <th>0</th>\n      <td>Nikon releases the 125x optical zoom COOLPIX P...</td>\n      <td></td>\n      <td>0.97</td>\n      <td>1.738758e+09</td>\n      <td>73</td>\n      <td>Other than the USB-C port update, I’m not real...</td>\n    </tr>\n    <tr>\n      <th>1</th>\n      <td>Z 35mm f/1.2 S available for preorder</td>\n      <td></td>\n      <td>1.00</td>\n      <td>1.738728e+09</td>\n      <td>65</td>\n      <td>Man, that took forever.  I remember fall of 20...</td>\n    </tr>\n    <tr>\n      <th>2</th>\n      <td>Is this the last king of the film era?</td>\n      <td></td>\n      <td>0.98</td>\n      <td>1.738936e+09</td>\n      <td>201</td>\n      <td>Yeppers, only reason why I haven’t picked up o...</td>\n    </tr>\n    <tr>\n      <th>3</th>\n      <td>Welcoming the newest member of the family</td>\n      <td></td>\n      <td>0.95</td>\n      <td>1.738951e+09</td>\n      <td>85</td>\n      <td>Summoning their ultimate successor...</td>\n    </tr>\n    <tr>\n      <th>4</th>\n      <td>Z6ii with 70-300</td>\n      <td></td>\n      <td>0.98</td>\n      <td>1.738958e+09</td>\n      <td>32</td>\n      <td>The Tamron 70-300? Great lens, I want one.</td>\n    </tr>\n    <tr>\n      <th>...</th>\n      <td>...</td>\n      <td>...</td>\n      <td>...</td>\n      <td>...</td>\n      <td>...</td>\n      <td>...</td>\n    </tr>\n    <tr>\n      <th>985</th>\n      <td>NY Wildlife (zfc + 50 1.8s)</td>\n      <td></td>\n      <td>0.99</td>\n      <td>1.737651e+09</td>\n      <td>37</td>\n      <td>Exceptional shots! How did you get so close wi...</td>\n    </tr>\n    <tr>\n      <th>986</th>\n      <td>D850 RAW converter?</td>\n      <td>Opinions on the best RAW converter for the D85...</td>\n      <td>1.00</td>\n      <td>1.737688e+09</td>\n      <td>5</td>\n      <td>Best is up to you. There's literally hundreds ...</td>\n    </tr>\n    <tr>\n      <th>987</th>\n      <td>What are the best cameras for a beginner?</td>\n      <td>**Feeling Overwhelmed by the Camera Market?**\\...</td>\n      <td>0.56</td>\n      <td>1.737719e+09</td>\n      <td>1</td>\n      <td>This gets asked roughly every 15 minutes in r/...</td>\n    </tr>\n    <tr>\n      <th>988</th>\n      <td>Walking back from a fun event at Ventura harbo...</td>\n      <td>Nikon D500 and 35mm 1.8 with a  diffusion filt...</td>\n      <td>0.75</td>\n      <td>1.737703e+09</td>\n      <td>2</td>\n      <td></td>\n    </tr>\n    <tr>\n      <th>989</th>\n      <td>Latte art. Nikon F2.</td>\n      <td></td>\n      <td>1.00</td>\n      <td>1.737671e+09</td>\n      <td>10</td>\n      <td>Which lens did you use to take these photos?</td>\n    </tr>\n  </tbody>\n</table>\n<p>990 rows × 6 columns</p>\n</div>"
     },
     "execution_count": 63,
     "metadata": {},
     "output_type": "execute_result"
    }
   ],
   "source": [
    "df_sneakers"
   ]
  },
  {
   "cell_type": "code",
   "execution_count": 64,
   "id": "e69dade8",
   "metadata": {
    "ExecuteTime": {
     "end_time": "2025-02-07T22:15:59.452850Z",
     "start_time": "2025-02-07T22:15:59.413627Z"
    }
   },
   "outputs": [],
   "source": [
    "df_sneakers.to_csv('sneakers.csv', index=False)\n"
   ]
  },
  {
   "cell_type": "code",
   "execution_count": 65,
   "id": "d98a2208",
   "metadata": {
    "ExecuteTime": {
     "end_time": "2025-02-08T01:23:26.049074Z",
     "start_time": "2025-02-08T01:23:25.821585Z"
    }
   },
   "outputs": [
    {
     "name": "stdout",
     "output_type": "stream",
     "text": [
      "Loaded: google.csv\n",
      "Loaded: teslamotors.csv\n",
      "Loaded: playstation.csv\n",
      "Loaded: nikon.csv\n",
      "Loaded: apple.csv\n",
      "Loaded: technology.csv\n",
      "Loaded: xbox.csv\n",
      "Loaded: amd.csv\n",
      "Loaded: intel.csv\n",
      "Loaded: tsmc.csv\n",
      "Loaded: canon.csv\n",
      "Loaded: dell.csv\n",
      "Loaded: meta.csv\n",
      "Loaded: microsoft.csv\n",
      "Loaded: samsung.csv\n",
      "Loaded: nvidia.csv\n",
      "Total CSV files read: 16\n"
     ]
    }
   ],
   "source": [
    "# Path to the folder containing the CSV files\n",
    "folder_path = 'Dataframe_new'\n",
    "\n",
    "# List to store the DataFrames\n",
    "dataframes = []\n",
    "\n",
    "# Iterate over all files in the folder\n",
    "for file_name in os.listdir(folder_path):\n",
    "    # Check if the file is a CSV\n",
    "    if file_name.endswith('.csv'):\n",
    "        file_path = os.path.join(folder_path, file_name)\n",
    "        # Read the CSV into a DataFrame\n",
    "        df = pd.read_csv(file_path)\n",
    "        df['topic'] = os.path.splitext(file_name)[0]\n",
    "        dataframes.append(df)\n",
    "        print(f\"Loaded: {file_name}\")\n",
    "\n",
    "print(f\"Total CSV files read: {len(dataframes)}\")"
   ]
  },
  {
   "cell_type": "code",
   "execution_count": 66,
   "id": "ef6bf4b8",
   "metadata": {
    "ExecuteTime": {
     "end_time": "2025-02-08T01:23:28.130361Z",
     "start_time": "2025-02-08T01:23:28.118860Z"
    }
   },
   "outputs": [],
   "source": [
    "combined_df = pd.concat(dataframes, ignore_index=True)\n"
   ]
  },
  {
   "cell_type": "code",
   "execution_count": 67,
   "id": "e873e99a",
   "metadata": {
    "ExecuteTime": {
     "end_time": "2025-02-08T01:23:29.488289Z",
     "start_time": "2025-02-08T01:23:29.475391Z"
    }
   },
   "outputs": [
    {
     "data": {
      "text/plain": "                                                   Title  \\\n0                     Support Megathread - November 2023   \n1                                    Oh yeah makes sense   \n2      Google says Gemini is being misused to launch ...   \n3      Is this the reason for dark web alerts today? ...   \n4      “Impeach Do” and “Impeach Tr” makes google hav...   \n...                                                  ...   \n11651  With manufacturing nodes slowing down….the fut...   \n11652    Wow, just tried DLDSR + DLSS on a 1440p screen.   \n11653         Doubts about the release of the 50 series    \n11654  Alan Wake 2 will be the first game to support ...   \n11655  How to swap out the fans on a Gigabyte GeForce...   \n\n                                                    Body  Upvote_ratio  \\\n0      Have a question you need answered? A new Googl...          0.98   \n1                                                    NaN          0.92   \n2                                                    NaN          0.95   \n3                                                    NaN          0.94   \n4                                                    NaN          0.86   \n...                                                  ...           ...   \n11651  We're approaching atomic limits with silicon, ...          0.84   \n11652  With the launch of the 5000 series cards, I've...          0.94   \n11653  Well, it's my first time buying online, I woul...          0.30   \n11654                                                NaN          0.96   \n11655  I’m a tech at an arcade and all I know is mech...          0.60   \n\n          Timestamp  Upvote_num  \\\n0      1.698797e+09          68   \n1      1.738574e+09         181   \n2      1.738586e+09          62   \n3      1.738541e+09         376   \n4      1.738539e+09         319   \n...             ...         ...   \n11651  1.737018e+09          93   \n11652  1.736986e+09         433   \n11653  1.737153e+09           0   \n11654  1.736972e+09         723   \n11655  1.737078e+09           3   \n\n                                                comments   topic  \n0      What's the point of this \"Megathread\" if no on...  google  \n1      This is why I blocked ai overview using uBlock...  google  \n2      >Dozens of cybercriminal organizations from al...  google  \n3      If this isn't an official government job how i...  google  \n4      DuckDuck though lol... 3rd letter in\\n\\nhttps:...  google  \n...                                                  ...     ...  \n11651  >We're approaching atomic limits with silicon\\...  nvidia  \n11652  DLDSR is great, a shame that nvidia can't be b...  nvidia  \n11653  I'm having Vietnam flashbacks of the 30xx seri...  nvidia  \n11654  Remedy has always been first to jump on new te...  nvidia  \n11655  I can't help with instructions for that specif...  nvidia  \n\n[11656 rows x 7 columns]",
      "text/html": "<div>\n<style scoped>\n    .dataframe tbody tr th:only-of-type {\n        vertical-align: middle;\n    }\n\n    .dataframe tbody tr th {\n        vertical-align: top;\n    }\n\n    .dataframe thead th {\n        text-align: right;\n    }\n</style>\n<table border=\"1\" class=\"dataframe\">\n  <thead>\n    <tr style=\"text-align: right;\">\n      <th></th>\n      <th>Title</th>\n      <th>Body</th>\n      <th>Upvote_ratio</th>\n      <th>Timestamp</th>\n      <th>Upvote_num</th>\n      <th>comments</th>\n      <th>topic</th>\n    </tr>\n  </thead>\n  <tbody>\n    <tr>\n      <th>0</th>\n      <td>Support Megathread - November 2023</td>\n      <td>Have a question you need answered? A new Googl...</td>\n      <td>0.98</td>\n      <td>1.698797e+09</td>\n      <td>68</td>\n      <td>What's the point of this \"Megathread\" if no on...</td>\n      <td>google</td>\n    </tr>\n    <tr>\n      <th>1</th>\n      <td>Oh yeah makes sense</td>\n      <td>NaN</td>\n      <td>0.92</td>\n      <td>1.738574e+09</td>\n      <td>181</td>\n      <td>This is why I blocked ai overview using uBlock...</td>\n      <td>google</td>\n    </tr>\n    <tr>\n      <th>2</th>\n      <td>Google says Gemini is being misused to launch ...</td>\n      <td>NaN</td>\n      <td>0.95</td>\n      <td>1.738586e+09</td>\n      <td>62</td>\n      <td>&gt;Dozens of cybercriminal organizations from al...</td>\n      <td>google</td>\n    </tr>\n    <tr>\n      <th>3</th>\n      <td>Is this the reason for dark web alerts today? ...</td>\n      <td>NaN</td>\n      <td>0.94</td>\n      <td>1.738541e+09</td>\n      <td>376</td>\n      <td>If this isn't an official government job how i...</td>\n      <td>google</td>\n    </tr>\n    <tr>\n      <th>4</th>\n      <td>“Impeach Do” and “Impeach Tr” makes google hav...</td>\n      <td>NaN</td>\n      <td>0.86</td>\n      <td>1.738539e+09</td>\n      <td>319</td>\n      <td>DuckDuck though lol... 3rd letter in\\n\\nhttps:...</td>\n      <td>google</td>\n    </tr>\n    <tr>\n      <th>...</th>\n      <td>...</td>\n      <td>...</td>\n      <td>...</td>\n      <td>...</td>\n      <td>...</td>\n      <td>...</td>\n      <td>...</td>\n    </tr>\n    <tr>\n      <th>11651</th>\n      <td>With manufacturing nodes slowing down….the fut...</td>\n      <td>We're approaching atomic limits with silicon, ...</td>\n      <td>0.84</td>\n      <td>1.737018e+09</td>\n      <td>93</td>\n      <td>&gt;We're approaching atomic limits with silicon\\...</td>\n      <td>nvidia</td>\n    </tr>\n    <tr>\n      <th>11652</th>\n      <td>Wow, just tried DLDSR + DLSS on a 1440p screen.</td>\n      <td>With the launch of the 5000 series cards, I've...</td>\n      <td>0.94</td>\n      <td>1.736986e+09</td>\n      <td>433</td>\n      <td>DLDSR is great, a shame that nvidia can't be b...</td>\n      <td>nvidia</td>\n    </tr>\n    <tr>\n      <th>11653</th>\n      <td>Doubts about the release of the 50 series</td>\n      <td>Well, it's my first time buying online, I woul...</td>\n      <td>0.30</td>\n      <td>1.737153e+09</td>\n      <td>0</td>\n      <td>I'm having Vietnam flashbacks of the 30xx seri...</td>\n      <td>nvidia</td>\n    </tr>\n    <tr>\n      <th>11654</th>\n      <td>Alan Wake 2 will be the first game to support ...</td>\n      <td>NaN</td>\n      <td>0.96</td>\n      <td>1.736972e+09</td>\n      <td>723</td>\n      <td>Remedy has always been first to jump on new te...</td>\n      <td>nvidia</td>\n    </tr>\n    <tr>\n      <th>11655</th>\n      <td>How to swap out the fans on a Gigabyte GeForce...</td>\n      <td>I’m a tech at an arcade and all I know is mech...</td>\n      <td>0.60</td>\n      <td>1.737078e+09</td>\n      <td>3</td>\n      <td>I can't help with instructions for that specif...</td>\n      <td>nvidia</td>\n    </tr>\n  </tbody>\n</table>\n<p>11656 rows × 7 columns</p>\n</div>"
     },
     "execution_count": 67,
     "metadata": {},
     "output_type": "execute_result"
    }
   ],
   "source": [
    "combined_df"
   ]
  },
  {
   "cell_type": "code",
   "execution_count": 68,
   "id": "9d65838b",
   "metadata": {
    "ExecuteTime": {
     "end_time": "2025-02-08T01:23:52.428984Z",
     "start_time": "2025-02-08T01:23:52.269082Z"
    }
   },
   "outputs": [],
   "source": [
    "combined_df.to_csv('athletic_apparel.csv', index=False)\n"
   ]
  },
  {
   "cell_type": "code",
   "execution_count": 61,
   "id": "be4711f8",
   "metadata": {},
   "outputs": [
    {
     "data": {
      "text/plain": [
       "Title       0\n",
       "Body     2824\n",
       "topic       0\n",
       "dtype: int64"
      ]
     },
     "execution_count": 61,
     "metadata": {},
     "output_type": "execute_result"
    }
   ],
   "source": [
    "nan_per_column = combined_df.isnull().sum()\n",
    "nan_per_column"
   ]
  },
  {
   "cell_type": "code",
   "execution_count": null,
   "id": "29d8f1f0",
   "metadata": {},
   "outputs": [],
   "source": []
  }
 ],
 "metadata": {
  "kernelspec": {
   "display_name": "Python 3 (ipykernel)",
   "language": "python",
   "name": "python3"
  },
  "language_info": {
   "codemirror_mode": {
    "name": "ipython",
    "version": 3
   },
   "file_extension": ".py",
   "mimetype": "text/x-python",
   "name": "python",
   "nbconvert_exporter": "python",
   "pygments_lexer": "ipython3",
   "version": "3.9.13"
  }
 },
 "nbformat": 4,
 "nbformat_minor": 5
}
