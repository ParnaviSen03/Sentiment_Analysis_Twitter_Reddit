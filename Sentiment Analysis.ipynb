{
 "cells": [
  {
   "cell_type": "code",
   "execution_count": 1,
   "id": "bbb83fa5",
   "metadata": {},
   "outputs": [
    {
     "name": "stdout",
     "output_type": "stream",
     "text": [
      "Collecting praw\n",
      "  Downloading praw-7.8.1-py3-none-any.whl (189 kB)\n",
      "     -------------------------------------- 189.3/189.3 kB 3.8 MB/s eta 0:00:00\n",
      "Requirement already satisfied: websocket-client>=0.54.0 in c:\\users\\parnavi_sen\\anaconda3\\lib\\site-packages (from praw) (0.58.0)\n",
      "Collecting update_checker>=0.18\n",
      "  Downloading update_checker-0.18.0-py3-none-any.whl (7.0 kB)\n",
      "Collecting prawcore<3,>=2.4\n",
      "  Downloading prawcore-2.4.0-py3-none-any.whl (17 kB)\n",
      "Requirement already satisfied: requests<3.0,>=2.6.0 in c:\\users\\parnavi_sen\\anaconda3\\lib\\site-packages (from prawcore<3,>=2.4->praw) (2.28.1)\n",
      "Requirement already satisfied: six in c:\\users\\parnavi_sen\\anaconda3\\lib\\site-packages (from websocket-client>=0.54.0->praw) (1.16.0)\n",
      "Requirement already satisfied: certifi>=2017.4.17 in c:\\users\\parnavi_sen\\anaconda3\\lib\\site-packages (from requests<3.0,>=2.6.0->prawcore<3,>=2.4->praw) (2022.9.14)\n",
      "Requirement already satisfied: charset-normalizer<3,>=2 in c:\\users\\parnavi_sen\\anaconda3\\lib\\site-packages (from requests<3.0,>=2.6.0->prawcore<3,>=2.4->praw) (2.0.4)\n",
      "Requirement already satisfied: idna<4,>=2.5 in c:\\users\\parnavi_sen\\anaconda3\\lib\\site-packages (from requests<3.0,>=2.6.0->prawcore<3,>=2.4->praw) (3.3)\n",
      "Requirement already satisfied: urllib3<1.27,>=1.21.1 in c:\\users\\parnavi_sen\\anaconda3\\lib\\site-packages (from requests<3.0,>=2.6.0->prawcore<3,>=2.4->praw) (1.26.11)\n",
      "Installing collected packages: update_checker, prawcore, praw\n",
      "Successfully installed praw-7.8.1 prawcore-2.4.0 update_checker-0.18.0\n",
      "Note: you may need to restart the kernel to use updated packages.\n"
     ]
    },
    {
     "name": "stderr",
     "output_type": "stream",
     "text": [
      "WARNING: Ignoring invalid distribution -rotobuf (c:\\users\\parnavi_sen\\anaconda3\\lib\\site-packages)\n",
      "WARNING: Ignoring invalid distribution -rotobuf (c:\\users\\parnavi_sen\\anaconda3\\lib\\site-packages)\n",
      "WARNING: Ignoring invalid distribution -rotobuf (c:\\users\\parnavi_sen\\anaconda3\\lib\\site-packages)\n",
      "WARNING: Ignoring invalid distribution -rotobuf (c:\\users\\parnavi_sen\\anaconda3\\lib\\site-packages)\n",
      "WARNING: Ignoring invalid distribution -rotobuf (c:\\users\\parnavi_sen\\anaconda3\\lib\\site-packages)\n",
      "WARNING: Ignoring invalid distribution -rotobuf (c:\\users\\parnavi_sen\\anaconda3\\lib\\site-packages)\n",
      "WARNING: Ignoring invalid distribution -rotobuf (c:\\users\\parnavi_sen\\anaconda3\\lib\\site-packages)\n",
      "WARNING: Ignoring invalid distribution -rotobuf (c:\\users\\parnavi_sen\\anaconda3\\lib\\site-packages)\n",
      "WARNING: Ignoring invalid distribution -rotobuf (c:\\users\\parnavi_sen\\anaconda3\\lib\\site-packages)\n"
     ]
    }
   ],
   "source": [
    "pip install praw\n"
   ]
  },
  {
   "cell_type": "code",
   "execution_count": 7,
   "id": "f14a3cb0",
   "metadata": {},
   "outputs": [],
   "source": [
    "import praw\n",
    "from prawcore.exceptions import NotFound\n",
    "import pandas as pd\n",
    "\n",
    "arr=[]\n",
    "reddit = praw.Reddit(\n",
    "    client_id='eLHIfVLEUxnTQlLlGt29_Q',\n",
    "    client_secret='xalSQxSsLr5oxApVsrobL5dyasmCOw',\n",
    "    user_agent='python:my_reddit_sentiment_app:v1.0.0 (by u/on_a_no_buy)'\n",
    ")\n",
    "\n",
    "try:\n",
    "    subreddit = reddit.subreddit('Lululemon')\n",
    "    for post in subreddit.hot(limit=500):\n",
    "        #print(post.title)\n",
    "        #print(post.selftext)\n",
    "        arr.append([post.title,post.selftext])\n",
    "except NotFound:\n",
    "    print(\"The requested resource was not found. Please check the subreddit name or resource ID.\")\n",
    "df_lululemon = pd.DataFrame(arr, columns=['Title', 'Body'])\n"
   ]
  },
  {
   "cell_type": "code",
   "execution_count": 8,
   "id": "da1e5777",
   "metadata": {},
   "outputs": [
    {
     "data": {
      "text/html": [
       "<div>\n",
       "<style scoped>\n",
       "    .dataframe tbody tr th:only-of-type {\n",
       "        vertical-align: middle;\n",
       "    }\n",
       "\n",
       "    .dataframe tbody tr th {\n",
       "        vertical-align: top;\n",
       "    }\n",
       "\n",
       "    .dataframe thead th {\n",
       "        text-align: right;\n",
       "    }\n",
       "</style>\n",
       "<table border=\"1\" class=\"dataframe\">\n",
       "  <thead>\n",
       "    <tr style=\"text-align: right;\">\n",
       "      <th></th>\n",
       "      <th>Title</th>\n",
       "      <th>Body</th>\n",
       "    </tr>\n",
       "  </thead>\n",
       "  <tbody>\n",
       "    <tr>\n",
       "      <th>0</th>\n",
       "      <td>Weekly Simple Questions and Advice Thread</td>\n",
       "      <td>Have a simple question that isn’t enough to wa...</td>\n",
       "    </tr>\n",
       "    <tr>\n",
       "      <th>1</th>\n",
       "      <td>Saturday Rant and Unpopular Opinion Thread</td>\n",
       "      <td>Don’t see you size in stock? The color you wan...</td>\n",
       "    </tr>\n",
       "    <tr>\n",
       "      <th>2</th>\n",
       "      <td>She’s here and not even exaggerating how rich ...</td>\n",
       "      <td></td>\n",
       "    </tr>\n",
       "    <tr>\n",
       "      <th>3</th>\n",
       "      <td>It’s been a while since a lulu color has had a...</td>\n",
       "      <td>I have gone a bit crazy with my crater blue pu...</td>\n",
       "    </tr>\n",
       "    <tr>\n",
       "      <th>4</th>\n",
       "      <td>A TRUE NAVY MOMENT: THE RIBBED ALIGN PANT 25\" ...</td>\n",
       "      <td>this define jacket sold out quick ! ☹️</td>\n",
       "    </tr>\n",
       "    <tr>\n",
       "      <th>...</th>\n",
       "      <td>...</td>\n",
       "      <td>...</td>\n",
       "    </tr>\n",
       "    <tr>\n",
       "      <th>495</th>\n",
       "      <td>Rulu Cropped and Fast &amp; Free 25”</td>\n",
       "      <td>Size M and size 10 both in True Navy! I am obs...</td>\n",
       "    </tr>\n",
       "    <tr>\n",
       "      <th>496</th>\n",
       "      <td>Stretch Woven High-Rise Wide Leg Cropped Pant ...</td>\n",
       "      <td>Been eying these pants and snagged a pair!</td>\n",
       "    </tr>\n",
       "    <tr>\n",
       "      <th>497</th>\n",
       "      <td>Define sizing? Are some girls just wearing the...</td>\n",
       "      <td>I have 3 total right now. I have two in a size...</td>\n",
       "    </tr>\n",
       "    <tr>\n",
       "      <th>498</th>\n",
       "      <td>My white lululemon turned gray!</td>\n",
       "      <td>Is there going back from here? 🥲\\n\\nTop: lulul...</td>\n",
       "    </tr>\n",
       "    <tr>\n",
       "      <th>499</th>\n",
       "      <td>to the people who retag their worn items and r...</td>\n",
       "      <td>saw this in store and squealed since it’s sold...</td>\n",
       "    </tr>\n",
       "  </tbody>\n",
       "</table>\n",
       "<p>500 rows × 2 columns</p>\n",
       "</div>"
      ],
      "text/plain": [
       "                                                 Title  \\\n",
       "0            Weekly Simple Questions and Advice Thread   \n",
       "1           Saturday Rant and Unpopular Opinion Thread   \n",
       "2    She’s here and not even exaggerating how rich ...   \n",
       "3    It’s been a while since a lulu color has had a...   \n",
       "4    A TRUE NAVY MOMENT: THE RIBBED ALIGN PANT 25\" ...   \n",
       "..                                                 ...   \n",
       "495                   Rulu Cropped and Fast & Free 25”   \n",
       "496  Stretch Woven High-Rise Wide Leg Cropped Pant ...   \n",
       "497  Define sizing? Are some girls just wearing the...   \n",
       "498                    My white lululemon turned gray!   \n",
       "499  to the people who retag their worn items and r...   \n",
       "\n",
       "                                                  Body  \n",
       "0    Have a simple question that isn’t enough to wa...  \n",
       "1    Don’t see you size in stock? The color you wan...  \n",
       "2                                                       \n",
       "3    I have gone a bit crazy with my crater blue pu...  \n",
       "4               this define jacket sold out quick ! ☹️  \n",
       "..                                                 ...  \n",
       "495  Size M and size 10 both in True Navy! I am obs...  \n",
       "496        Been eying these pants and snagged a pair!   \n",
       "497  I have 3 total right now. I have two in a size...  \n",
       "498  Is there going back from here? 🥲\\n\\nTop: lulul...  \n",
       "499  saw this in store and squealed since it’s sold...  \n",
       "\n",
       "[500 rows x 2 columns]"
      ]
     },
     "execution_count": 8,
     "metadata": {},
     "output_type": "execute_result"
    }
   ],
   "source": [
    "df_lululemon"
   ]
  },
  {
   "cell_type": "code",
   "execution_count": 10,
   "id": "e69dade8",
   "metadata": {},
   "outputs": [],
   "source": [
    "df_lululemon.to_csv('lululemon1.csv', index=False)\n"
   ]
  },
  {
   "cell_type": "code",
   "execution_count": null,
   "id": "438b2c47",
   "metadata": {},
   "outputs": [],
   "source": []
  }
 ],
 "metadata": {
  "kernelspec": {
   "display_name": "Python 3 (ipykernel)",
   "language": "python",
   "name": "python3"
  },
  "language_info": {
   "codemirror_mode": {
    "name": "ipython",
    "version": 3
   },
   "file_extension": ".py",
   "mimetype": "text/x-python",
   "name": "python",
   "nbconvert_exporter": "python",
   "pygments_lexer": "ipython3",
   "version": "3.9.13"
  }
 },
 "nbformat": 4,
 "nbformat_minor": 5
}
